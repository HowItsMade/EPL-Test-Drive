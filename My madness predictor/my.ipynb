{
 "cells": [
  {
   "cell_type": "code",
   "execution_count": 42,
   "metadata": {},
   "outputs": [
    {
     "name": "stdout",
     "output_type": "stream",
     "text": [
      "Requirement already satisfied: seaborn in d:\\orange stuff\\lib\\site-packages (0.11.2)\n",
      "Requirement already satisfied: numpy>=1.15 in d:\\orange stuff\\lib\\site-packages (from seaborn) (1.19.5)\n",
      "Requirement already satisfied: matplotlib>=2.2 in d:\\orange stuff\\lib\\site-packages (from seaborn) (3.4.3)\n",
      "Requirement already satisfied: scipy>=1.0 in d:\\orange stuff\\lib\\site-packages (from seaborn) (1.5.3)\n",
      "Requirement already satisfied: pandas>=0.23 in d:\\orange stuff\\lib\\site-packages (from seaborn) (1.3.4)\n",
      "Requirement already satisfied: cycler>=0.10 in d:\\orange stuff\\lib\\site-packages (from matplotlib>=2.2->seaborn) (0.10.0)\n",
      "Requirement already satisfied: pillow>=6.2.0 in d:\\orange stuff\\lib\\site-packages (from matplotlib>=2.2->seaborn) (8.3.2)\n",
      "Requirement already satisfied: pyparsing>=2.2.1 in d:\\orange stuff\\lib\\site-packages (from matplotlib>=2.2->seaborn) (3.0.3)\n",
      "Requirement already satisfied: kiwisolver>=1.0.1 in d:\\orange stuff\\lib\\site-packages (from matplotlib>=2.2->seaborn) (1.3.2)\n",
      "Requirement already satisfied: python-dateutil>=2.7 in d:\\orange stuff\\lib\\site-packages (from matplotlib>=2.2->seaborn) (2.8.2)\n",
      "Requirement already satisfied: pytz>=2017.3 in d:\\orange stuff\\lib\\site-packages (from pandas>=0.23->seaborn) (2021.3)\n",
      "Requirement already satisfied: six in d:\\orange stuff\\lib\\site-packages (from cycler>=0.10->matplotlib>=2.2->seaborn) (1.16.0)\n",
      "Note: you may need to restart the kernel to use updated packages.\n"
     ]
    }
   ],
   "source": [
    "pip install seaborn"
   ]
  },
  {
   "cell_type": "code",
   "execution_count": 43,
   "metadata": {},
   "outputs": [
    {
     "name": "stdout",
     "output_type": "stream",
     "text": [
      "Requirement already satisfied: statsmodels in d:\\orange stuff\\lib\\site-packages (0.13.1)\n",
      "Requirement already satisfied: scipy>=1.3 in d:\\orange stuff\\lib\\site-packages (from statsmodels) (1.5.3)\n",
      "Requirement already satisfied: patsy>=0.5.2 in d:\\orange stuff\\lib\\site-packages (from statsmodels) (0.5.2)\n",
      "Requirement already satisfied: pandas>=0.25 in d:\\orange stuff\\lib\\site-packages (from statsmodels) (1.3.4)\n",
      "Requirement already satisfied: numpy>=1.17 in d:\\orange stuff\\lib\\site-packages (from statsmodels) (1.19.5)\n",
      "Requirement already satisfied: python-dateutil>=2.7.3 in d:\\orange stuff\\lib\\site-packages (from pandas>=0.25->statsmodels) (2.8.2)\n",
      "Requirement already satisfied: pytz>=2017.3 in d:\\orange stuff\\lib\\site-packages (from pandas>=0.25->statsmodels) (2021.3)\n",
      "Requirement already satisfied: six in d:\\orange stuff\\lib\\site-packages (from patsy>=0.5.2->statsmodels) (1.16.0)\n",
      "Note: you may need to restart the kernel to use updated packages.\n"
     ]
    }
   ],
   "source": [
    "pip install statsmodels\n"
   ]
  },
  {
   "cell_type": "code",
   "execution_count": 44,
   "metadata": {},
   "outputs": [
    {
     "data": {
      "text/html": [
       "<div>\n",
       "<style scoped>\n",
       "    .dataframe tbody tr th:only-of-type {\n",
       "        vertical-align: middle;\n",
       "    }\n",
       "\n",
       "    .dataframe tbody tr th {\n",
       "        vertical-align: top;\n",
       "    }\n",
       "\n",
       "    .dataframe thead th {\n",
       "        text-align: right;\n",
       "    }\n",
       "</style>\n",
       "<table border=\"1\" class=\"dataframe\">\n",
       "  <thead>\n",
       "    <tr style=\"text-align: right;\">\n",
       "      <th></th>\n",
       "      <th>HomeTeam</th>\n",
       "      <th>AwayTeam</th>\n",
       "      <th>HomeGoals</th>\n",
       "      <th>AwayGoals</th>\n",
       "      <th>FTR</th>\n",
       "    </tr>\n",
       "  </thead>\n",
       "  <tbody>\n",
       "    <tr>\n",
       "      <th>0</th>\n",
       "      <td>Arsenal</td>\n",
       "      <td>Coventry</td>\n",
       "      <td>0</td>\n",
       "      <td>3</td>\n",
       "      <td>A</td>\n",
       "    </tr>\n",
       "    <tr>\n",
       "      <th>1</th>\n",
       "      <td>Aston Villa</td>\n",
       "      <td>QPR</td>\n",
       "      <td>4</td>\n",
       "      <td>1</td>\n",
       "      <td>H</td>\n",
       "    </tr>\n",
       "    <tr>\n",
       "      <th>2</th>\n",
       "      <td>Chelsea</td>\n",
       "      <td>Blackburn</td>\n",
       "      <td>1</td>\n",
       "      <td>2</td>\n",
       "      <td>A</td>\n",
       "    </tr>\n",
       "    <tr>\n",
       "      <th>3</th>\n",
       "      <td>Liverpool</td>\n",
       "      <td>Sheffield Weds</td>\n",
       "      <td>2</td>\n",
       "      <td>0</td>\n",
       "      <td>H</td>\n",
       "    </tr>\n",
       "    <tr>\n",
       "      <th>4</th>\n",
       "      <td>Man City</td>\n",
       "      <td>Leeds</td>\n",
       "      <td>1</td>\n",
       "      <td>1</td>\n",
       "      <td>D</td>\n",
       "    </tr>\n",
       "  </tbody>\n",
       "</table>\n",
       "</div>"
      ],
      "text/plain": [
       "      HomeTeam        AwayTeam  HomeGoals  AwayGoals FTR\n",
       "0      Arsenal        Coventry          0          3   A\n",
       "1  Aston Villa             QPR          4          1   H\n",
       "2      Chelsea       Blackburn          1          2   A\n",
       "3    Liverpool  Sheffield Weds          2          0   H\n",
       "4     Man City           Leeds          1          1   D"
      ]
     },
     "execution_count": 44,
     "metadata": {},
     "output_type": "execute_result"
    }
   ],
   "source": [
    "import pandas as pd\n",
    "import matplotlib.pyplot as plt\n",
    "import numpy as np\n",
    "import seaborn\n",
    "from scipy.stats import poisson,skellam\n",
    "\n",
    "epl_1617 = pd.read_csv(r\"results.csv\", encoding= 'unicode_escape')\n",
    "epl_1617 = epl_1617[['HomeTeam','AwayTeam','FTHG','FTAG','FTR']]\n",
    "epl_1617 = epl_1617.rename(columns={'FTHG': 'HomeGoals', 'FTAG': 'AwayGoals'})\n",
    "epl_1617.head()"
   ]
  },
  {
   "cell_type": "code",
   "execution_count": 45,
   "metadata": {},
   "outputs": [
    {
     "name": "stderr",
     "output_type": "stream",
     "text": [
      "C:\\Users\\Omen\\AppData\\Local\\Temp/ipykernel_7032/1206896792.py:2: FutureWarning: Dropping of nuisance columns in DataFrame reductions (with 'numeric_only=None') is deprecated; in a future version this will raise TypeError.  Select only valid columns before calling the reduction.\n",
      "  epl_1617.mean()\n"
     ]
    },
    {
     "data": {
      "text/plain": [
       "HomeGoals    1.519146\n",
       "AwayGoals    1.136690\n",
       "dtype: float64"
      ]
     },
     "execution_count": 45,
     "metadata": {},
     "output_type": "execute_result"
    }
   ],
   "source": [
    "epl_1617 = epl_1617[:-10]\n",
    "epl_1617.mean()"
   ]
  },
  {
   "cell_type": "code",
   "execution_count": 46,
   "metadata": {},
   "outputs": [
    {
     "name": "stderr",
     "output_type": "stream",
     "text": [
      "C:\\Users\\Omen\\AppData\\Local\\Temp/ipykernel_7032/3638304551.py:2: FutureWarning: Dropping of nuisance columns in DataFrame reductions (with 'numeric_only=None') is deprecated; in a future version this will raise TypeError.  Select only valid columns before calling the reduction.\n",
      "  poisson_pred = np.column_stack([[poisson.pmf(i, epl_1617.mean()[j]) for i in range(8)] for j in range(2)])\n"
     ]
    },
    {
     "ename": "AttributeError",
     "evalue": "'Rectangle' object has no property 'normed'",
     "output_type": "error",
     "traceback": [
      "\u001b[1;31m---------------------------------------------------------------------------\u001b[0m",
      "\u001b[1;31mAttributeError\u001b[0m                            Traceback (most recent call last)",
      "\u001b[1;32m~\\AppData\\Local\\Temp/ipykernel_7032/3638304551.py\u001b[0m in \u001b[0;36m<module>\u001b[1;34m\u001b[0m\n\u001b[0;32m      3\u001b[0m \u001b[1;33m\u001b[0m\u001b[0m\n\u001b[0;32m      4\u001b[0m \u001b[1;31m# plot histogram of actual goals\u001b[0m\u001b[1;33m\u001b[0m\u001b[1;33m\u001b[0m\u001b[1;33m\u001b[0m\u001b[0m\n\u001b[1;32m----> 5\u001b[1;33m plt.hist(epl_1617[['HomeGoals', 'AwayGoals']].values, range(9), \n\u001b[0m\u001b[0;32m      6\u001b[0m          alpha=0.7, label=['Home', 'Away'],normed=True, color=[\"#FFA07A\", \"#20B2AA\"])\n\u001b[0;32m      7\u001b[0m \u001b[1;33m\u001b[0m\u001b[0m\n",
      "\u001b[1;32mD:\\Orange stuff\\lib\\site-packages\\matplotlib\\pyplot.py\u001b[0m in \u001b[0;36mhist\u001b[1;34m(x, bins, range, density, weights, cumulative, bottom, histtype, align, orientation, rwidth, log, color, label, stacked, data, **kwargs)\u001b[0m\n\u001b[0;32m   2851\u001b[0m         \u001b[0morientation\u001b[0m\u001b[1;33m=\u001b[0m\u001b[1;34m'vertical'\u001b[0m\u001b[1;33m,\u001b[0m \u001b[0mrwidth\u001b[0m\u001b[1;33m=\u001b[0m\u001b[1;32mNone\u001b[0m\u001b[1;33m,\u001b[0m \u001b[0mlog\u001b[0m\u001b[1;33m=\u001b[0m\u001b[1;32mFalse\u001b[0m\u001b[1;33m,\u001b[0m \u001b[0mcolor\u001b[0m\u001b[1;33m=\u001b[0m\u001b[1;32mNone\u001b[0m\u001b[1;33m,\u001b[0m\u001b[1;33m\u001b[0m\u001b[1;33m\u001b[0m\u001b[0m\n\u001b[0;32m   2852\u001b[0m         label=None, stacked=False, *, data=None, **kwargs):\n\u001b[1;32m-> 2853\u001b[1;33m     return gca().hist(\n\u001b[0m\u001b[0;32m   2854\u001b[0m         \u001b[0mx\u001b[0m\u001b[1;33m,\u001b[0m \u001b[0mbins\u001b[0m\u001b[1;33m=\u001b[0m\u001b[0mbins\u001b[0m\u001b[1;33m,\u001b[0m \u001b[0mrange\u001b[0m\u001b[1;33m=\u001b[0m\u001b[0mrange\u001b[0m\u001b[1;33m,\u001b[0m \u001b[0mdensity\u001b[0m\u001b[1;33m=\u001b[0m\u001b[0mdensity\u001b[0m\u001b[1;33m,\u001b[0m \u001b[0mweights\u001b[0m\u001b[1;33m=\u001b[0m\u001b[0mweights\u001b[0m\u001b[1;33m,\u001b[0m\u001b[1;33m\u001b[0m\u001b[1;33m\u001b[0m\u001b[0m\n\u001b[0;32m   2855\u001b[0m         \u001b[0mcumulative\u001b[0m\u001b[1;33m=\u001b[0m\u001b[0mcumulative\u001b[0m\u001b[1;33m,\u001b[0m \u001b[0mbottom\u001b[0m\u001b[1;33m=\u001b[0m\u001b[0mbottom\u001b[0m\u001b[1;33m,\u001b[0m \u001b[0mhisttype\u001b[0m\u001b[1;33m=\u001b[0m\u001b[0mhisttype\u001b[0m\u001b[1;33m,\u001b[0m\u001b[1;33m\u001b[0m\u001b[1;33m\u001b[0m\u001b[0m\n",
      "\u001b[1;32mD:\\Orange stuff\\lib\\site-packages\\matplotlib\\__init__.py\u001b[0m in \u001b[0;36minner\u001b[1;34m(ax, data, *args, **kwargs)\u001b[0m\n\u001b[0;32m   1359\u001b[0m     \u001b[1;32mdef\u001b[0m \u001b[0minner\u001b[0m\u001b[1;33m(\u001b[0m\u001b[0max\u001b[0m\u001b[1;33m,\u001b[0m \u001b[1;33m*\u001b[0m\u001b[0margs\u001b[0m\u001b[1;33m,\u001b[0m \u001b[0mdata\u001b[0m\u001b[1;33m=\u001b[0m\u001b[1;32mNone\u001b[0m\u001b[1;33m,\u001b[0m \u001b[1;33m**\u001b[0m\u001b[0mkwargs\u001b[0m\u001b[1;33m)\u001b[0m\u001b[1;33m:\u001b[0m\u001b[1;33m\u001b[0m\u001b[1;33m\u001b[0m\u001b[0m\n\u001b[0;32m   1360\u001b[0m         \u001b[1;32mif\u001b[0m \u001b[0mdata\u001b[0m \u001b[1;32mis\u001b[0m \u001b[1;32mNone\u001b[0m\u001b[1;33m:\u001b[0m\u001b[1;33m\u001b[0m\u001b[1;33m\u001b[0m\u001b[0m\n\u001b[1;32m-> 1361\u001b[1;33m             \u001b[1;32mreturn\u001b[0m \u001b[0mfunc\u001b[0m\u001b[1;33m(\u001b[0m\u001b[0max\u001b[0m\u001b[1;33m,\u001b[0m \u001b[1;33m*\u001b[0m\u001b[0mmap\u001b[0m\u001b[1;33m(\u001b[0m\u001b[0msanitize_sequence\u001b[0m\u001b[1;33m,\u001b[0m \u001b[0margs\u001b[0m\u001b[1;33m)\u001b[0m\u001b[1;33m,\u001b[0m \u001b[1;33m**\u001b[0m\u001b[0mkwargs\u001b[0m\u001b[1;33m)\u001b[0m\u001b[1;33m\u001b[0m\u001b[1;33m\u001b[0m\u001b[0m\n\u001b[0m\u001b[0;32m   1362\u001b[0m \u001b[1;33m\u001b[0m\u001b[0m\n\u001b[0;32m   1363\u001b[0m         \u001b[0mbound\u001b[0m \u001b[1;33m=\u001b[0m \u001b[0mnew_sig\u001b[0m\u001b[1;33m.\u001b[0m\u001b[0mbind\u001b[0m\u001b[1;33m(\u001b[0m\u001b[0max\u001b[0m\u001b[1;33m,\u001b[0m \u001b[1;33m*\u001b[0m\u001b[0margs\u001b[0m\u001b[1;33m,\u001b[0m \u001b[1;33m**\u001b[0m\u001b[0mkwargs\u001b[0m\u001b[1;33m)\u001b[0m\u001b[1;33m\u001b[0m\u001b[1;33m\u001b[0m\u001b[0m\n",
      "\u001b[1;32mD:\\Orange stuff\\lib\\site-packages\\matplotlib\\axes\\_axes.py\u001b[0m in \u001b[0;36mhist\u001b[1;34m(self, x, bins, range, density, weights, cumulative, bottom, histtype, align, orientation, rwidth, log, color, label, stacked, **kwargs)\u001b[0m\n\u001b[0;32m   6909\u001b[0m             \u001b[1;32mif\u001b[0m \u001b[0mpatch\u001b[0m\u001b[1;33m:\u001b[0m\u001b[1;33m\u001b[0m\u001b[1;33m\u001b[0m\u001b[0m\n\u001b[0;32m   6910\u001b[0m                 \u001b[0mp\u001b[0m \u001b[1;33m=\u001b[0m \u001b[0mpatch\u001b[0m\u001b[1;33m[\u001b[0m\u001b[1;36m0\u001b[0m\u001b[1;33m]\u001b[0m\u001b[1;33m\u001b[0m\u001b[1;33m\u001b[0m\u001b[0m\n\u001b[1;32m-> 6911\u001b[1;33m                 \u001b[0mp\u001b[0m\u001b[1;33m.\u001b[0m\u001b[0mupdate\u001b[0m\u001b[1;33m(\u001b[0m\u001b[0mkwargs\u001b[0m\u001b[1;33m)\u001b[0m\u001b[1;33m\u001b[0m\u001b[1;33m\u001b[0m\u001b[0m\n\u001b[0m\u001b[0;32m   6912\u001b[0m                 \u001b[1;32mif\u001b[0m \u001b[0mlbl\u001b[0m \u001b[1;32mis\u001b[0m \u001b[1;32mnot\u001b[0m \u001b[1;32mNone\u001b[0m\u001b[1;33m:\u001b[0m\u001b[1;33m\u001b[0m\u001b[1;33m\u001b[0m\u001b[0m\n\u001b[0;32m   6913\u001b[0m                     \u001b[0mp\u001b[0m\u001b[1;33m.\u001b[0m\u001b[0mset_label\u001b[0m\u001b[1;33m(\u001b[0m\u001b[0mlbl\u001b[0m\u001b[1;33m)\u001b[0m\u001b[1;33m\u001b[0m\u001b[1;33m\u001b[0m\u001b[0m\n",
      "\u001b[1;32mD:\\Orange stuff\\lib\\site-packages\\matplotlib\\artist.py\u001b[0m in \u001b[0;36mupdate\u001b[1;34m(self, props)\u001b[0m\n\u001b[0;32m   1060\u001b[0m                     \u001b[0mfunc\u001b[0m \u001b[1;33m=\u001b[0m \u001b[0mgetattr\u001b[0m\u001b[1;33m(\u001b[0m\u001b[0mself\u001b[0m\u001b[1;33m,\u001b[0m \u001b[1;34mf\"set_{k}\"\u001b[0m\u001b[1;33m,\u001b[0m \u001b[1;32mNone\u001b[0m\u001b[1;33m)\u001b[0m\u001b[1;33m\u001b[0m\u001b[1;33m\u001b[0m\u001b[0m\n\u001b[0;32m   1061\u001b[0m                     \u001b[1;32mif\u001b[0m \u001b[1;32mnot\u001b[0m \u001b[0mcallable\u001b[0m\u001b[1;33m(\u001b[0m\u001b[0mfunc\u001b[0m\u001b[1;33m)\u001b[0m\u001b[1;33m:\u001b[0m\u001b[1;33m\u001b[0m\u001b[1;33m\u001b[0m\u001b[0m\n\u001b[1;32m-> 1062\u001b[1;33m                         raise AttributeError(f\"{type(self).__name__!r} object \"\n\u001b[0m\u001b[0;32m   1063\u001b[0m                                              f\"has no property {k!r}\")\n\u001b[0;32m   1064\u001b[0m                     \u001b[0mret\u001b[0m\u001b[1;33m.\u001b[0m\u001b[0mappend\u001b[0m\u001b[1;33m(\u001b[0m\u001b[0mfunc\u001b[0m\u001b[1;33m(\u001b[0m\u001b[0mv\u001b[0m\u001b[1;33m)\u001b[0m\u001b[1;33m)\u001b[0m\u001b[1;33m\u001b[0m\u001b[1;33m\u001b[0m\u001b[0m\n",
      "\u001b[1;31mAttributeError\u001b[0m: 'Rectangle' object has no property 'normed'"
     ]
    },
    {
     "data": {
      "image/png": "[encoded data removed]",
      "text/plain": [
       "<Figure size 432x288 with 1 Axes>"
      ]
     },
     "metadata": {
      "needs_background": "light"
     },
     "output_type": "display_data"
    }
   ],
   "source": [
    "# construct Poisson  for each mean goals value\n",
    "poisson_pred = np.column_stack([[poisson.pmf(i, epl_1617.mean()[j]) for i in range(8)] for j in range(2)])\n",
    "\n",
    "# plot histogram of actual goals\n",
    "plt.hist(epl_1617[['HomeGoals', 'AwayGoals']].values, range(9), \n",
    "         alpha=0.7, label=['Home', 'Away'],normed=True, color=[\"#FFA07A\", \"#20B2AA\"])\n",
    "\n",
    "# add lines for the Poisson distributions\n",
    "pois1, = plt.plot([i-0.5 for i in range(1,9)], poisson_pred[:,0],\n",
    "                  linestyle='-', marker='o',label=\"Home\", color = '#CD5C5C')\n",
    "pois2, = plt.plot([i-0.5 for i in range(1,9)], poisson_pred[:,1],\n",
    "                  linestyle='-', marker='o',label=\"Away\", color = '#006400')\n",
    "\n",
    "leg=plt.legend(loc='upper right', fontsize=13, ncol=2)\n",
    "leg.set_title(\"Poisson           Actual        \", prop = {'size':'14', 'weight':'bold'})\n",
    "\n",
    "plt.xticks([i-0.5 for i in range(1,9)],[i for i in range(9)])\n",
    "plt.xlabel(\"Goals per Match\",size=13)\n",
    "plt.ylabel(\"Proportion of Matches\",size=13)\n",
    "plt.title(\"Number of Goals per Match (EPL 2016/17 Season)\",size=14,fontweight='bold')\n",
    "plt.ylim([-0.004, 0.4])\n",
    "plt.tight_layout()\n",
    "plt.show()"
   ]
  },
  {
   "cell_type": "code",
   "execution_count": null,
   "metadata": {},
   "outputs": [
    {
     "name": "stderr",
     "output_type": "stream",
     "text": [
      "C:\\Users\\Omen\\AppData\\Local\\Temp/ipykernel_7032/58550314.py:2: FutureWarning: Dropping of nuisance columns in DataFrame reductions (with 'numeric_only=None') is deprecated; in a future version this will raise TypeError.  Select only valid columns before calling the reduction.\n",
      "  skellam.pmf(1,  epl_1617.mean()[0],  epl_1617.mean()[1])\n"
     ]
    },
    {
     "data": {
      "text/plain": [
       "0.22951324499432052"
      ]
     },
     "execution_count": 18,
     "metadata": {},
     "output_type": "execute_result"
    }
   ],
   "source": [
    "# probability of home team winning by one goal\n",
    "skellam.pmf(1,  epl_1617.mean()[0],  epl_1617.mean()[1])"
   ]
  },
  {
   "cell_type": "code",
   "execution_count": null,
   "metadata": {},
   "outputs": [
    {
     "name": "stderr",
     "output_type": "stream",
     "text": [
      "C:\\Users\\Omen\\AppData\\Local\\Temp/ipykernel_7032/3123452338.py:1: FutureWarning: Dropping of nuisance columns in DataFrame reductions (with 'numeric_only=None') is deprecated; in a future version this will raise TypeError.  Select only valid columns before calling the reduction.\n",
      "  skellam_pred = [skellam.pmf(i,  epl_1617.mean()[0],  epl_1617.mean()[1]) for i in range(-6,8)]\n"
     ]
    },
    {
     "ename": "AttributeError",
     "evalue": "'Rectangle' object has no property 'normed'",
     "output_type": "error",
     "traceback": [
      "\u001b[1;31m---------------------------------------------------------------------------\u001b[0m",
      "\u001b[1;31mAttributeError\u001b[0m                            Traceback (most recent call last)",
      "\u001b[1;32m~\\AppData\\Local\\Temp/ipykernel_7032/3123452338.py\u001b[0m in \u001b[0;36m<module>\u001b[1;34m\u001b[0m\n\u001b[0;32m      1\u001b[0m \u001b[0mskellam_pred\u001b[0m \u001b[1;33m=\u001b[0m \u001b[1;33m[\u001b[0m\u001b[0mskellam\u001b[0m\u001b[1;33m.\u001b[0m\u001b[0mpmf\u001b[0m\u001b[1;33m(\u001b[0m\u001b[0mi\u001b[0m\u001b[1;33m,\u001b[0m  \u001b[0mepl_1617\u001b[0m\u001b[1;33m.\u001b[0m\u001b[0mmean\u001b[0m\u001b[1;33m(\u001b[0m\u001b[1;33m)\u001b[0m\u001b[1;33m[\u001b[0m\u001b[1;36m0\u001b[0m\u001b[1;33m]\u001b[0m\u001b[1;33m,\u001b[0m  \u001b[0mepl_1617\u001b[0m\u001b[1;33m.\u001b[0m\u001b[0mmean\u001b[0m\u001b[1;33m(\u001b[0m\u001b[1;33m)\u001b[0m\u001b[1;33m[\u001b[0m\u001b[1;36m1\u001b[0m\u001b[1;33m]\u001b[0m\u001b[1;33m)\u001b[0m \u001b[1;32mfor\u001b[0m \u001b[0mi\u001b[0m \u001b[1;32min\u001b[0m \u001b[0mrange\u001b[0m\u001b[1;33m(\u001b[0m\u001b[1;33m-\u001b[0m\u001b[1;36m6\u001b[0m\u001b[1;33m,\u001b[0m\u001b[1;36m8\u001b[0m\u001b[1;33m)\u001b[0m\u001b[1;33m]\u001b[0m\u001b[1;33m\u001b[0m\u001b[1;33m\u001b[0m\u001b[0m\n\u001b[0;32m      2\u001b[0m \u001b[1;33m\u001b[0m\u001b[0m\n\u001b[1;32m----> 3\u001b[1;33m plt.hist(epl_1617[['HomeGoals']].values - epl_1617[['AwayGoals']].values, range(-6,8), \n\u001b[0m\u001b[0;32m      4\u001b[0m          alpha=0.7, label='Actual',normed=True)\n\u001b[0;32m      5\u001b[0m plt.plot([i+0.5 for i in range(-6,8)], skellam_pred,\n",
      "\u001b[1;32mD:\\Orange stuff\\lib\\site-packages\\matplotlib\\pyplot.py\u001b[0m in \u001b[0;36mhist\u001b[1;34m(x, bins, range, density, weights, cumulative, bottom, histtype, align, orientation, rwidth, log, color, label, stacked, data, **kwargs)\u001b[0m\n\u001b[0;32m   2851\u001b[0m         \u001b[0morientation\u001b[0m\u001b[1;33m=\u001b[0m\u001b[1;34m'vertical'\u001b[0m\u001b[1;33m,\u001b[0m \u001b[0mrwidth\u001b[0m\u001b[1;33m=\u001b[0m\u001b[1;32mNone\u001b[0m\u001b[1;33m,\u001b[0m \u001b[0mlog\u001b[0m\u001b[1;33m=\u001b[0m\u001b[1;32mFalse\u001b[0m\u001b[1;33m,\u001b[0m \u001b[0mcolor\u001b[0m\u001b[1;33m=\u001b[0m\u001b[1;32mNone\u001b[0m\u001b[1;33m,\u001b[0m\u001b[1;33m\u001b[0m\u001b[1;33m\u001b[0m\u001b[0m\n\u001b[0;32m   2852\u001b[0m         label=None, stacked=False, *, data=None, **kwargs):\n\u001b[1;32m-> 2853\u001b[1;33m     return gca().hist(\n\u001b[0m\u001b[0;32m   2854\u001b[0m         \u001b[0mx\u001b[0m\u001b[1;33m,\u001b[0m \u001b[0mbins\u001b[0m\u001b[1;33m=\u001b[0m\u001b[0mbins\u001b[0m\u001b[1;33m,\u001b[0m \u001b[0mrange\u001b[0m\u001b[1;33m=\u001b[0m\u001b[0mrange\u001b[0m\u001b[1;33m,\u001b[0m \u001b[0mdensity\u001b[0m\u001b[1;33m=\u001b[0m\u001b[0mdensity\u001b[0m\u001b[1;33m,\u001b[0m \u001b[0mweights\u001b[0m\u001b[1;33m=\u001b[0m\u001b[0mweights\u001b[0m\u001b[1;33m,\u001b[0m\u001b[1;33m\u001b[0m\u001b[1;33m\u001b[0m\u001b[0m\n\u001b[0;32m   2855\u001b[0m         \u001b[0mcumulative\u001b[0m\u001b[1;33m=\u001b[0m\u001b[0mcumulative\u001b[0m\u001b[1;33m,\u001b[0m \u001b[0mbottom\u001b[0m\u001b[1;33m=\u001b[0m\u001b[0mbottom\u001b[0m\u001b[1;33m,\u001b[0m \u001b[0mhisttype\u001b[0m\u001b[1;33m=\u001b[0m\u001b[0mhisttype\u001b[0m\u001b[1;33m,\u001b[0m\u001b[1;33m\u001b[0m\u001b[1;33m\u001b[0m\u001b[0m\n",
      "\u001b[1;32mD:\\Orange stuff\\lib\\site-packages\\matplotlib\\__init__.py\u001b[0m in \u001b[0;36minner\u001b[1;34m(ax, data, *args, **kwargs)\u001b[0m\n\u001b[0;32m   1359\u001b[0m     \u001b[1;32mdef\u001b[0m \u001b[0minner\u001b[0m\u001b[1;33m(\u001b[0m\u001b[0max\u001b[0m\u001b[1;33m,\u001b[0m \u001b[1;33m*\u001b[0m\u001b[0margs\u001b[0m\u001b[1;33m,\u001b[0m \u001b[0mdata\u001b[0m\u001b[1;33m=\u001b[0m\u001b[1;32mNone\u001b[0m\u001b[1;33m,\u001b[0m \u001b[1;33m**\u001b[0m\u001b[0mkwargs\u001b[0m\u001b[1;33m)\u001b[0m\u001b[1;33m:\u001b[0m\u001b[1;33m\u001b[0m\u001b[1;33m\u001b[0m\u001b[0m\n\u001b[0;32m   1360\u001b[0m         \u001b[1;32mif\u001b[0m \u001b[0mdata\u001b[0m \u001b[1;32mis\u001b[0m \u001b[1;32mNone\u001b[0m\u001b[1;33m:\u001b[0m\u001b[1;33m\u001b[0m\u001b[1;33m\u001b[0m\u001b[0m\n\u001b[1;32m-> 1361\u001b[1;33m             \u001b[1;32mreturn\u001b[0m \u001b[0mfunc\u001b[0m\u001b[1;33m(\u001b[0m\u001b[0max\u001b[0m\u001b[1;33m,\u001b[0m \u001b[1;33m*\u001b[0m\u001b[0mmap\u001b[0m\u001b[1;33m(\u001b[0m\u001b[0msanitize_sequence\u001b[0m\u001b[1;33m,\u001b[0m \u001b[0margs\u001b[0m\u001b[1;33m)\u001b[0m\u001b[1;33m,\u001b[0m \u001b[1;33m**\u001b[0m\u001b[0mkwargs\u001b[0m\u001b[1;33m)\u001b[0m\u001b[1;33m\u001b[0m\u001b[1;33m\u001b[0m\u001b[0m\n\u001b[0m\u001b[0;32m   1362\u001b[0m \u001b[1;33m\u001b[0m\u001b[0m\n\u001b[0;32m   1363\u001b[0m         \u001b[0mbound\u001b[0m \u001b[1;33m=\u001b[0m \u001b[0mnew_sig\u001b[0m\u001b[1;33m.\u001b[0m\u001b[0mbind\u001b[0m\u001b[1;33m(\u001b[0m\u001b[0max\u001b[0m\u001b[1;33m,\u001b[0m \u001b[1;33m*\u001b[0m\u001b[0margs\u001b[0m\u001b[1;33m,\u001b[0m \u001b[1;33m**\u001b[0m\u001b[0mkwargs\u001b[0m\u001b[1;33m)\u001b[0m\u001b[1;33m\u001b[0m\u001b[1;33m\u001b[0m\u001b[0m\n",
      "\u001b[1;32mD:\\Orange stuff\\lib\\site-packages\\matplotlib\\axes\\_axes.py\u001b[0m in \u001b[0;36mhist\u001b[1;34m(self, x, bins, range, density, weights, cumulative, bottom, histtype, align, orientation, rwidth, log, color, label, stacked, **kwargs)\u001b[0m\n\u001b[0;32m   6909\u001b[0m             \u001b[1;32mif\u001b[0m \u001b[0mpatch\u001b[0m\u001b[1;33m:\u001b[0m\u001b[1;33m\u001b[0m\u001b[1;33m\u001b[0m\u001b[0m\n\u001b[0;32m   6910\u001b[0m                 \u001b[0mp\u001b[0m \u001b[1;33m=\u001b[0m \u001b[0mpatch\u001b[0m\u001b[1;33m[\u001b[0m\u001b[1;36m0\u001b[0m\u001b[1;33m]\u001b[0m\u001b[1;33m\u001b[0m\u001b[1;33m\u001b[0m\u001b[0m\n\u001b[1;32m-> 6911\u001b[1;33m                 \u001b[0mp\u001b[0m\u001b[1;33m.\u001b[0m\u001b[0mupdate\u001b[0m\u001b[1;33m(\u001b[0m\u001b[0mkwargs\u001b[0m\u001b[1;33m)\u001b[0m\u001b[1;33m\u001b[0m\u001b[1;33m\u001b[0m\u001b[0m\n\u001b[0m\u001b[0;32m   6912\u001b[0m                 \u001b[1;32mif\u001b[0m \u001b[0mlbl\u001b[0m \u001b[1;32mis\u001b[0m \u001b[1;32mnot\u001b[0m \u001b[1;32mNone\u001b[0m\u001b[1;33m:\u001b[0m\u001b[1;33m\u001b[0m\u001b[1;33m\u001b[0m\u001b[0m\n\u001b[0;32m   6913\u001b[0m                     \u001b[0mp\u001b[0m\u001b[1;33m.\u001b[0m\u001b[0mset_label\u001b[0m\u001b[1;33m(\u001b[0m\u001b[0mlbl\u001b[0m\u001b[1;33m)\u001b[0m\u001b[1;33m\u001b[0m\u001b[1;33m\u001b[0m\u001b[0m\n",
      "\u001b[1;32mD:\\Orange stuff\\lib\\site-packages\\matplotlib\\artist.py\u001b[0m in \u001b[0;36mupdate\u001b[1;34m(self, props)\u001b[0m\n\u001b[0;32m   1060\u001b[0m                     \u001b[0mfunc\u001b[0m \u001b[1;33m=\u001b[0m \u001b[0mgetattr\u001b[0m\u001b[1;33m(\u001b[0m\u001b[0mself\u001b[0m\u001b[1;33m,\u001b[0m \u001b[1;34mf\"set_{k}\"\u001b[0m\u001b[1;33m,\u001b[0m \u001b[1;32mNone\u001b[0m\u001b[1;33m)\u001b[0m\u001b[1;33m\u001b[0m\u001b[1;33m\u001b[0m\u001b[0m\n\u001b[0;32m   1061\u001b[0m                     \u001b[1;32mif\u001b[0m \u001b[1;32mnot\u001b[0m \u001b[0mcallable\u001b[0m\u001b[1;33m(\u001b[0m\u001b[0mfunc\u001b[0m\u001b[1;33m)\u001b[0m\u001b[1;33m:\u001b[0m\u001b[1;33m\u001b[0m\u001b[1;33m\u001b[0m\u001b[0m\n\u001b[1;32m-> 1062\u001b[1;33m                         raise AttributeError(f\"{type(self).__name__!r} object \"\n\u001b[0m\u001b[0;32m   1063\u001b[0m                                              f\"has no property {k!r}\")\n\u001b[0;32m   1064\u001b[0m                     \u001b[0mret\u001b[0m\u001b[1;33m.\u001b[0m\u001b[0mappend\u001b[0m\u001b[1;33m(\u001b[0m\u001b[0mfunc\u001b[0m\u001b[1;33m(\u001b[0m\u001b[0mv\u001b[0m\u001b[1;33m)\u001b[0m\u001b[1;33m)\u001b[0m\u001b[1;33m\u001b[0m\u001b[1;33m\u001b[0m\u001b[0m\n",
      "\u001b[1;31mAttributeError\u001b[0m: 'Rectangle' object has no property 'normed'"
     ]
    },
    {
     "data": {
      "image/png": "[encoded data removed]",
      "text/plain": [
       "<Figure size 432x288 with 1 Axes>"
      ]
     },
     "metadata": {
      "needs_background": "light"
     },
     "output_type": "display_data"
    }
   ],
   "source": [
    "skellam_pred = [skellam.pmf(i,  epl_1617.mean()[0],  epl_1617.mean()[1]) for i in range(-6,8)]\n",
    "\n",
    "plt.hist(epl_1617[['HomeGoals']].values - epl_1617[['AwayGoals']].values, range(-6,8), \n",
    "         alpha=0.7, label='Actual',normed=True)\n",
    "plt.plot([i+0.5 for i in range(-6,8)], skellam_pred,\n",
    "                  linestyle='-', marker='o',label=\"Skellam\", color = '#CD5C5C')\n",
    "plt.legend(loc='upper right', fontsize=13)\n",
    "plt.xticks([i+0.5 for i in range(-6,8)],[i for i in range(-6,8)])\n",
    "plt.xlabel(\"Home Goals - Away Goals\",size=13)\n",
    "plt.ylabel(\"Proportion of Matches\",size=13)\n",
    "plt.title(\"Difference in Goals Scored (Home Team vs Away Team)\",size=14,fontweight='bold')\n",
    "plt.ylim([-0.004, 0.26])\n",
    "plt.tight_layout()\n",
    "plt.show()"
   ]
  },
  {
   "cell_type": "code",
   "execution_count": null,
   "metadata": {},
   "outputs": [
    {
     "ename": "TypeError",
     "evalue": "only size-1 arrays can be converted to Python scalars",
     "output_type": "error",
     "traceback": [
      "\u001b[1;31m---------------------------------------------------------------------------\u001b[0m",
      "\u001b[1;31mTypeError\u001b[0m                                 Traceback (most recent call last)",
      "\u001b[1;32m~\\AppData\\Local\\Temp/ipykernel_7032/574296509.py\u001b[0m in \u001b[0;36m<module>\u001b[1;34m\u001b[0m\n\u001b[0;32m     12\u001b[0m \u001b[0msun_away_pois\u001b[0m \u001b[1;33m=\u001b[0m \u001b[1;33m[\u001b[0m\u001b[0mpoisson\u001b[0m\u001b[1;33m.\u001b[0m\u001b[0mpmf\u001b[0m\u001b[1;33m(\u001b[0m\u001b[0mi\u001b[0m\u001b[1;33m,\u001b[0m\u001b[0mnp\u001b[0m\u001b[1;33m.\u001b[0m\u001b[0msum\u001b[0m\u001b[1;33m(\u001b[0m\u001b[0mnp\u001b[0m\u001b[1;33m.\u001b[0m\u001b[0mmultiply\u001b[0m\u001b[1;33m(\u001b[0m\u001b[0msun_away\u001b[0m\u001b[1;33m.\u001b[0m\u001b[0mvalues\u001b[0m\u001b[1;33m.\u001b[0m\u001b[0mT\u001b[0m\u001b[1;33m,\u001b[0m\u001b[0msun_away\u001b[0m\u001b[1;33m.\u001b[0m\u001b[0mindex\u001b[0m\u001b[1;33m.\u001b[0m\u001b[0mT\u001b[0m\u001b[1;33m)\u001b[0m\u001b[1;33m,\u001b[0m\u001b[0maxis\u001b[0m\u001b[1;33m=\u001b[0m\u001b[1;36m1\u001b[0m\u001b[1;33m)\u001b[0m\u001b[1;33m[\u001b[0m\u001b[1;36m0\u001b[0m\u001b[1;33m]\u001b[0m\u001b[1;33m)\u001b[0m \u001b[1;32mfor\u001b[0m \u001b[0mi\u001b[0m \u001b[1;32min\u001b[0m \u001b[0mrange\u001b[0m\u001b[1;33m(\u001b[0m\u001b[1;36m8\u001b[0m\u001b[1;33m)\u001b[0m\u001b[1;33m]\u001b[0m\u001b[1;33m\u001b[0m\u001b[1;33m\u001b[0m\u001b[0m\n\u001b[0;32m     13\u001b[0m \u001b[1;33m\u001b[0m\u001b[0m\n\u001b[1;32m---> 14\u001b[1;33m \u001b[0max1\u001b[0m\u001b[1;33m.\u001b[0m\u001b[0mbar\u001b[0m\u001b[1;33m(\u001b[0m\u001b[0mchel_home\u001b[0m\u001b[1;33m.\u001b[0m\u001b[0mindex\u001b[0m\u001b[1;33m-\u001b[0m\u001b[1;36m0.4\u001b[0m\u001b[1;33m,\u001b[0m\u001b[0mchel_home\u001b[0m\u001b[1;33m.\u001b[0m\u001b[0mvalues\u001b[0m\u001b[1;33m,\u001b[0m\u001b[0mwidth\u001b[0m\u001b[1;33m=\u001b[0m\u001b[1;36m0.4\u001b[0m\u001b[1;33m,\u001b[0m\u001b[0mcolor\u001b[0m\u001b[1;33m=\u001b[0m\u001b[1;34m\"#034694\"\u001b[0m\u001b[1;33m,\u001b[0m\u001b[0mlabel\u001b[0m\u001b[1;33m=\u001b[0m\u001b[1;34m\"Chelsea\"\u001b[0m\u001b[1;33m)\u001b[0m\u001b[1;33m\u001b[0m\u001b[1;33m\u001b[0m\u001b[0m\n\u001b[0m\u001b[0;32m     15\u001b[0m \u001b[0max1\u001b[0m\u001b[1;33m.\u001b[0m\u001b[0mbar\u001b[0m\u001b[1;33m(\u001b[0m\u001b[0msun_home\u001b[0m\u001b[1;33m.\u001b[0m\u001b[0mindex\u001b[0m\u001b[1;33m,\u001b[0m\u001b[0msun_home\u001b[0m\u001b[1;33m.\u001b[0m\u001b[0mvalues\u001b[0m\u001b[1;33m,\u001b[0m\u001b[0mwidth\u001b[0m\u001b[1;33m=\u001b[0m\u001b[1;36m0.4\u001b[0m\u001b[1;33m,\u001b[0m\u001b[0mcolor\u001b[0m\u001b[1;33m=\u001b[0m\u001b[1;34m\"#EB172B\"\u001b[0m\u001b[1;33m,\u001b[0m\u001b[0mlabel\u001b[0m\u001b[1;33m=\u001b[0m\u001b[1;34m\"Sunderland\"\u001b[0m\u001b[1;33m)\u001b[0m\u001b[1;33m\u001b[0m\u001b[1;33m\u001b[0m\u001b[0m\n\u001b[0;32m     16\u001b[0m pois1, = ax1.plot([i for i in range(8)], chel_home_pois,\n",
      "\u001b[1;32mD:\\Orange stuff\\lib\\site-packages\\matplotlib\\__init__.py\u001b[0m in \u001b[0;36minner\u001b[1;34m(ax, data, *args, **kwargs)\u001b[0m\n\u001b[0;32m   1359\u001b[0m     \u001b[1;32mdef\u001b[0m \u001b[0minner\u001b[0m\u001b[1;33m(\u001b[0m\u001b[0max\u001b[0m\u001b[1;33m,\u001b[0m \u001b[1;33m*\u001b[0m\u001b[0margs\u001b[0m\u001b[1;33m,\u001b[0m \u001b[0mdata\u001b[0m\u001b[1;33m=\u001b[0m\u001b[1;32mNone\u001b[0m\u001b[1;33m,\u001b[0m \u001b[1;33m**\u001b[0m\u001b[0mkwargs\u001b[0m\u001b[1;33m)\u001b[0m\u001b[1;33m:\u001b[0m\u001b[1;33m\u001b[0m\u001b[1;33m\u001b[0m\u001b[0m\n\u001b[0;32m   1360\u001b[0m         \u001b[1;32mif\u001b[0m \u001b[0mdata\u001b[0m \u001b[1;32mis\u001b[0m \u001b[1;32mNone\u001b[0m\u001b[1;33m:\u001b[0m\u001b[1;33m\u001b[0m\u001b[1;33m\u001b[0m\u001b[0m\n\u001b[1;32m-> 1361\u001b[1;33m             \u001b[1;32mreturn\u001b[0m \u001b[0mfunc\u001b[0m\u001b[1;33m(\u001b[0m\u001b[0max\u001b[0m\u001b[1;33m,\u001b[0m \u001b[1;33m*\u001b[0m\u001b[0mmap\u001b[0m\u001b[1;33m(\u001b[0m\u001b[0msanitize_sequence\u001b[0m\u001b[1;33m,\u001b[0m \u001b[0margs\u001b[0m\u001b[1;33m)\u001b[0m\u001b[1;33m,\u001b[0m \u001b[1;33m**\u001b[0m\u001b[0mkwargs\u001b[0m\u001b[1;33m)\u001b[0m\u001b[1;33m\u001b[0m\u001b[1;33m\u001b[0m\u001b[0m\n\u001b[0m\u001b[0;32m   1362\u001b[0m \u001b[1;33m\u001b[0m\u001b[0m\n\u001b[0;32m   1363\u001b[0m         \u001b[0mbound\u001b[0m \u001b[1;33m=\u001b[0m \u001b[0mnew_sig\u001b[0m\u001b[1;33m.\u001b[0m\u001b[0mbind\u001b[0m\u001b[1;33m(\u001b[0m\u001b[0max\u001b[0m\u001b[1;33m,\u001b[0m \u001b[1;33m*\u001b[0m\u001b[0margs\u001b[0m\u001b[1;33m,\u001b[0m \u001b[1;33m**\u001b[0m\u001b[0mkwargs\u001b[0m\u001b[1;33m)\u001b[0m\u001b[1;33m\u001b[0m\u001b[1;33m\u001b[0m\u001b[0m\n",
      "\u001b[1;32mD:\\Orange stuff\\lib\\site-packages\\matplotlib\\axes\\_axes.py\u001b[0m in \u001b[0;36mbar\u001b[1;34m(self, x, height, width, bottom, align, **kwargs)\u001b[0m\n\u001b[0;32m   2355\u001b[0m                    hatch)\n\u001b[0;32m   2356\u001b[0m         \u001b[1;32mfor\u001b[0m \u001b[0ml\u001b[0m\u001b[1;33m,\u001b[0m \u001b[0mb\u001b[0m\u001b[1;33m,\u001b[0m \u001b[0mw\u001b[0m\u001b[1;33m,\u001b[0m \u001b[0mh\u001b[0m\u001b[1;33m,\u001b[0m \u001b[0mc\u001b[0m\u001b[1;33m,\u001b[0m \u001b[0me\u001b[0m\u001b[1;33m,\u001b[0m \u001b[0mlw\u001b[0m\u001b[1;33m,\u001b[0m \u001b[0mhtch\u001b[0m \u001b[1;32min\u001b[0m \u001b[0margs\u001b[0m\u001b[1;33m:\u001b[0m\u001b[1;33m\u001b[0m\u001b[1;33m\u001b[0m\u001b[0m\n\u001b[1;32m-> 2357\u001b[1;33m             r = mpatches.Rectangle(\n\u001b[0m\u001b[0;32m   2358\u001b[0m                 \u001b[0mxy\u001b[0m\u001b[1;33m=\u001b[0m\u001b[1;33m(\u001b[0m\u001b[0ml\u001b[0m\u001b[1;33m,\u001b[0m \u001b[0mb\u001b[0m\u001b[1;33m)\u001b[0m\u001b[1;33m,\u001b[0m \u001b[0mwidth\u001b[0m\u001b[1;33m=\u001b[0m\u001b[0mw\u001b[0m\u001b[1;33m,\u001b[0m \u001b[0mheight\u001b[0m\u001b[1;33m=\u001b[0m\u001b[0mh\u001b[0m\u001b[1;33m,\u001b[0m\u001b[1;33m\u001b[0m\u001b[1;33m\u001b[0m\u001b[0m\n\u001b[0;32m   2359\u001b[0m                 \u001b[0mfacecolor\u001b[0m\u001b[1;33m=\u001b[0m\u001b[0mc\u001b[0m\u001b[1;33m,\u001b[0m\u001b[1;33m\u001b[0m\u001b[1;33m\u001b[0m\u001b[0m\n",
      "\u001b[1;32mD:\\Orange stuff\\lib\\site-packages\\matplotlib\\patches.py\u001b[0m in \u001b[0;36m__init__\u001b[1;34m(self, xy, width, height, angle, **kwargs)\u001b[0m\n\u001b[0;32m    750\u001b[0m             \u001b[1;33m%\u001b[0m\u001b[1;33m(\u001b[0m\u001b[0mPatch_kwdoc\u001b[0m\u001b[1;33m)\u001b[0m\u001b[0ms\u001b[0m\u001b[1;33m\u001b[0m\u001b[1;33m\u001b[0m\u001b[0m\n\u001b[0;32m    751\u001b[0m         \"\"\"\n\u001b[1;32m--> 752\u001b[1;33m         \u001b[0msuper\u001b[0m\u001b[1;33m(\u001b[0m\u001b[1;33m)\u001b[0m\u001b[1;33m.\u001b[0m\u001b[0m__init__\u001b[0m\u001b[1;33m(\u001b[0m\u001b[1;33m**\u001b[0m\u001b[0mkwargs\u001b[0m\u001b[1;33m)\u001b[0m\u001b[1;33m\u001b[0m\u001b[1;33m\u001b[0m\u001b[0m\n\u001b[0m\u001b[0;32m    753\u001b[0m         \u001b[0mself\u001b[0m\u001b[1;33m.\u001b[0m\u001b[0m_x0\u001b[0m \u001b[1;33m=\u001b[0m \u001b[0mxy\u001b[0m\u001b[1;33m[\u001b[0m\u001b[1;36m0\u001b[0m\u001b[1;33m]\u001b[0m\u001b[1;33m\u001b[0m\u001b[1;33m\u001b[0m\u001b[0m\n\u001b[0;32m    754\u001b[0m         \u001b[0mself\u001b[0m\u001b[1;33m.\u001b[0m\u001b[0m_y0\u001b[0m \u001b[1;33m=\u001b[0m \u001b[0mxy\u001b[0m\u001b[1;33m[\u001b[0m\u001b[1;36m1\u001b[0m\u001b[1;33m]\u001b[0m\u001b[1;33m\u001b[0m\u001b[1;33m\u001b[0m\u001b[0m\n",
      "\u001b[1;32mD:\\Orange stuff\\lib\\site-packages\\matplotlib\\patches.py\u001b[0m in \u001b[0;36m__init__\u001b[1;34m(self, edgecolor, facecolor, color, linewidth, linestyle, antialiased, hatch, fill, capstyle, joinstyle, **kwargs)\u001b[0m\n\u001b[0;32m     99\u001b[0m         \u001b[0mself\u001b[0m\u001b[1;33m.\u001b[0m\u001b[0mset_fill\u001b[0m\u001b[1;33m(\u001b[0m\u001b[0mfill\u001b[0m\u001b[1;33m)\u001b[0m\u001b[1;33m\u001b[0m\u001b[1;33m\u001b[0m\u001b[0m\n\u001b[0;32m    100\u001b[0m         \u001b[0mself\u001b[0m\u001b[1;33m.\u001b[0m\u001b[0mset_linestyle\u001b[0m\u001b[1;33m(\u001b[0m\u001b[0mlinestyle\u001b[0m\u001b[1;33m)\u001b[0m\u001b[1;33m\u001b[0m\u001b[1;33m\u001b[0m\u001b[0m\n\u001b[1;32m--> 101\u001b[1;33m         \u001b[0mself\u001b[0m\u001b[1;33m.\u001b[0m\u001b[0mset_linewidth\u001b[0m\u001b[1;33m(\u001b[0m\u001b[0mlinewidth\u001b[0m\u001b[1;33m)\u001b[0m\u001b[1;33m\u001b[0m\u001b[1;33m\u001b[0m\u001b[0m\n\u001b[0m\u001b[0;32m    102\u001b[0m         \u001b[0mself\u001b[0m\u001b[1;33m.\u001b[0m\u001b[0mset_antialiased\u001b[0m\u001b[1;33m(\u001b[0m\u001b[0mantialiased\u001b[0m\u001b[1;33m)\u001b[0m\u001b[1;33m\u001b[0m\u001b[1;33m\u001b[0m\u001b[0m\n\u001b[0;32m    103\u001b[0m         \u001b[0mself\u001b[0m\u001b[1;33m.\u001b[0m\u001b[0mset_hatch\u001b[0m\u001b[1;33m(\u001b[0m\u001b[0mhatch\u001b[0m\u001b[1;33m)\u001b[0m\u001b[1;33m\u001b[0m\u001b[1;33m\u001b[0m\u001b[0m\n",
      "\u001b[1;32mD:\\Orange stuff\\lib\\site-packages\\matplotlib\\patches.py\u001b[0m in \u001b[0;36mset_linewidth\u001b[1;34m(self, w)\u001b[0m\n\u001b[0;32m    404\u001b[0m                 \u001b[0mw\u001b[0m \u001b[1;33m=\u001b[0m \u001b[0mmpl\u001b[0m\u001b[1;33m.\u001b[0m\u001b[0mrcParams\u001b[0m\u001b[1;33m[\u001b[0m\u001b[1;34m'axes.linewidth'\u001b[0m\u001b[1;33m]\u001b[0m\u001b[1;33m\u001b[0m\u001b[1;33m\u001b[0m\u001b[0m\n\u001b[0;32m    405\u001b[0m \u001b[1;33m\u001b[0m\u001b[0m\n\u001b[1;32m--> 406\u001b[1;33m         \u001b[0mself\u001b[0m\u001b[1;33m.\u001b[0m\u001b[0m_linewidth\u001b[0m \u001b[1;33m=\u001b[0m \u001b[0mfloat\u001b[0m\u001b[1;33m(\u001b[0m\u001b[0mw\u001b[0m\u001b[1;33m)\u001b[0m\u001b[1;33m\u001b[0m\u001b[1;33m\u001b[0m\u001b[0m\n\u001b[0m\u001b[0;32m    407\u001b[0m         \u001b[1;31m# scale the dash pattern by the linewidth\u001b[0m\u001b[1;33m\u001b[0m\u001b[1;33m\u001b[0m\u001b[1;33m\u001b[0m\u001b[0m\n\u001b[0;32m    408\u001b[0m         \u001b[0moffset\u001b[0m\u001b[1;33m,\u001b[0m \u001b[0mls\u001b[0m \u001b[1;33m=\u001b[0m \u001b[0mself\u001b[0m\u001b[1;33m.\u001b[0m\u001b[0m_us_dashes\u001b[0m\u001b[1;33m\u001b[0m\u001b[1;33m\u001b[0m\u001b[0m\n",
      "\u001b[1;31mTypeError\u001b[0m: only size-1 arrays can be converted to Python scalars"
     ]
    },
    {
     "data": {
      "image/png": "[encoded data removed]",
      "text/plain": [
       "<Figure size 432x288 with 2 Axes>"
      ]
     },
     "metadata": {
      "needs_background": "light"
     },
     "output_type": "display_data"
    }
   ],
   "source": [
    "fig,(ax1,ax2) = plt.subplots(2, 1)\n",
    "\n",
    "\n",
    "chel_home = epl_1617[epl_1617['HomeTeam']=='Chelsea'][['HomeGoals']].apply(pd.value_counts,normalize=True)\n",
    "chel_home_pois = [poisson.pmf(i,np.sum(np.multiply(chel_home.values.T,chel_home.index.T),axis=1)[0]) for i in range(8)]\n",
    "sun_home = epl_1617[epl_1617['HomeTeam']=='Sunderland'][['HomeGoals']].apply(pd.value_counts,normalize=True)\n",
    "sun_home_pois = [poisson.pmf(i,np.sum(np.multiply(sun_home.values.T,sun_home.index.T),axis=1)[0]) for i in range(8)]\n",
    "\n",
    "chel_away = epl_1617[epl_1617['AwayTeam']=='Chelsea'][['AwayGoals']].apply(pd.value_counts,normalize=True)\n",
    "chel_away_pois = [poisson.pmf(i,np.sum(np.multiply(chel_away.values.T,chel_away.index.T),axis=1)[0]) for i in range(8)]\n",
    "sun_away = epl_1617[epl_1617['AwayTeam']=='Sunderland'][['AwayGoals']].apply(pd.value_counts,normalize=True)\n",
    "sun_away_pois = [poisson.pmf(i,np.sum(np.multiply(sun_away.values.T,sun_away.index.T),axis=1)[0]) for i in range(8)]\n",
    "\n",
    "ax1.bar(chel_home.index-0.4,chel_home.values,width=0.4,color=\"#034694\",label=\"Chelsea\")\n",
    "ax1.bar(sun_home.index,sun_home.values,width=0.4,color=\"#EB172B\",label=\"Sunderland\")\n",
    "pois1, = ax1.plot([i for i in range(8)], chel_home_pois,\n",
    "                  linestyle='-', marker='o',label=\"Chelsea\", color = \"#0a7bff\")\n",
    "pois1, = ax1.plot([i for i in range(8)], sun_home_pois,\n",
    "                  linestyle='-', marker='o',label=\"Sunderland\", color = \"#ff7c89\")\n",
    "leg=ax1.legend(loc='upper right', fontsize=12, ncol=2)\n",
    "leg.set_title(\"Poisson                 Actual                \", prop = {'size':'14', 'weight':'bold'})\n",
    "ax1.set_xlim([-0.5,7.5])\n",
    "ax1.set_ylim([-0.01,0.65])\n",
    "ax1.set_xticklabels([])\n",
    "# mimicing the facet plots in ggplot2 with a bit of a hack\n",
    "ax1.text(7.65, 0.585, '                Home                ', rotation=-90,\n",
    "        bbox={'facecolor':'#ffbcf6', 'alpha':0.5, 'pad':5})\n",
    "ax2.text(7.65, 0.585, '                Away                ', rotation=-90,\n",
    "        bbox={'facecolor':'#ffbcf6', 'alpha':0.5, 'pad':5})\n",
    "\n",
    "ax2.bar(chel_away.index-0.4,chel_away.values,width=0.4,color=\"#034694\",label=\"Chelsea\")\n",
    "ax2.bar(sun_away.index,sun_away.values,width=0.4,color=\"#EB172B\",label=\"Sunderland\")\n",
    "pois1, = ax2.plot([i for i in range(8)], chel_away_pois,\n",
    "                  linestyle='-', marker='o',label=\"Chelsea\", color = \"#0a7bff\")\n",
    "pois1, = ax2.plot([i for i in range(8)], sun_away_pois,\n",
    "                  linestyle='-', marker='o',label=\"Sunderland\", color = \"#ff7c89\")\n",
    "ax2.set_xlim([-0.5,7.5])\n",
    "ax2.set_ylim([-0.01,0.65])\n",
    "ax1.set_title(\"Number of Goals per Match (EPL 2016/17 Season)\",size=14,fontweight='bold')\n",
    "ax2.set_xlabel(\"Goals per Match\",size=13)\n",
    "ax2.text(-1.15, 0.9, 'Proportion of Matches', rotation=90, size=13)\n",
    "plt.tight_layout()\n",
    "plt.show()"
   ]
  },
  {
   "cell_type": "code",
   "execution_count": null,
   "metadata": {},
   "outputs": [
    {
     "data": {
      "text/html": [
       "<table class=\"simpletable\">\n",
       "<caption>Generalized Linear Model Regression Results</caption>\n",
       "<tr>\n",
       "  <th>Dep. Variable:</th>         <td>goals</td>      <th>  No. Observations:  </th>  <td> 21728</td> \n",
       "</tr>\n",
       "<tr>\n",
       "  <th>Model:</th>                  <td>GLM</td>       <th>  Df Residuals:      </th>  <td> 21628</td> \n",
       "</tr>\n",
       "<tr>\n",
       "  <th>Model Family:</th>         <td>Poisson</td>     <th>  Df Model:          </th>  <td>    99</td> \n",
       "</tr>\n",
       "<tr>\n",
       "  <th>Link Function:</th>          <td>Log</td>       <th>  Scale:             </th> <td>  1.0000</td>\n",
       "</tr>\n",
       "<tr>\n",
       "  <th>Method:</th>                <td>IRLS</td>       <th>  Log-Likelihood:    </th> <td> -31436.</td>\n",
       "</tr>\n",
       "<tr>\n",
       "  <th>Date:</th>            <td>Mon, 29 Nov 2021</td> <th>  Deviance:          </th> <td>  25238.</td>\n",
       "</tr>\n",
       "<tr>\n",
       "  <th>Time:</th>                <td>05:50:49</td>     <th>  Pearson chi2:      </th> <td>2.21e+04</td>\n",
       "</tr>\n",
       "<tr>\n",
       "  <th>No. Iterations:</th>          <td>5</td>        <th>  Pseudo R-squ. (CS):</th>  <td>0.1172</td> \n",
       "</tr>\n",
       "<tr>\n",
       "  <th>Covariance Type:</th>     <td>nonrobust</td>    <th>                     </th>     <td> </td>   \n",
       "</tr>\n",
       "</table>\n",
       "<table class=\"simpletable\">\n",
       "<tr>\n",
       "                <td></td>                  <th>coef</th>     <th>std err</th>      <th>z</th>      <th>P>|z|</th>  <th>[0.025</th>    <th>0.975]</th>  \n",
       "</tr>\n",
       "<tr>\n",
       "  <th>Intercept</th>                    <td>    0.1395</td> <td>    0.039</td> <td>    3.557</td> <td> 0.000</td> <td>    0.063</td> <td>    0.216</td>\n",
       "</tr>\n",
       "<tr>\n",
       "  <th>team[T.Aston Villa]</th>          <td>   -0.3727</td> <td>    0.037</td> <td>  -10.023</td> <td> 0.000</td> <td>   -0.446</td> <td>   -0.300</td>\n",
       "</tr>\n",
       "<tr>\n",
       "  <th>team[T.Barnsley]</th>             <td>   -0.5730</td> <td>    0.166</td> <td>   -3.449</td> <td> 0.001</td> <td>   -0.899</td> <td>   -0.247</td>\n",
       "</tr>\n",
       "<tr>\n",
       "  <th>team[T.Birmingham]</th>           <td>   -0.5250</td> <td>    0.065</td> <td>   -8.100</td> <td> 0.000</td> <td>   -0.652</td> <td>   -0.398</td>\n",
       "</tr>\n",
       "<tr>\n",
       "  <th>team[T.Blackburn]</th>            <td>   -0.2850</td> <td>    0.041</td> <td>   -6.927</td> <td> 0.000</td> <td>   -0.366</td> <td>   -0.204</td>\n",
       "</tr>\n",
       "<tr>\n",
       "  <th>team[T.Blackpool]</th>            <td>   -0.1804</td> <td>    0.137</td> <td>   -1.318</td> <td> 0.187</td> <td>   -0.449</td> <td>    0.088</td>\n",
       "</tr>\n",
       "<tr>\n",
       "  <th>team[T.Bolton]</th>               <td>   -0.3967</td> <td>    0.048</td> <td>   -8.326</td> <td> 0.000</td> <td>   -0.490</td> <td>   -0.303</td>\n",
       "</tr>\n",
       "<tr>\n",
       "  <th>team[T.Bournemouth]</th>          <td>   -0.3370</td> <td>    0.069</td> <td>   -4.914</td> <td> 0.000</td> <td>   -0.471</td> <td>   -0.203</td>\n",
       "</tr>\n",
       "<tr>\n",
       "  <th>team[T.Bradford]</th>             <td>   -0.6567</td> <td>    0.124</td> <td>   -5.316</td> <td> 0.000</td> <td>   -0.899</td> <td>   -0.415</td>\n",
       "</tr>\n",
       "<tr>\n",
       "  <th>team[T.Brentford]</th>            <td>   -0.2334</td> <td>    0.355</td> <td>   -0.658</td> <td> 0.511</td> <td>   -0.929</td> <td>    0.462</td>\n",
       "</tr>\n",
       "<tr>\n",
       "  <th>team[T.Brighton]</th>             <td>   -0.5943</td> <td>    0.084</td> <td>   -7.117</td> <td> 0.000</td> <td>   -0.758</td> <td>   -0.431</td>\n",
       "</tr>\n",
       "<tr>\n",
       "  <th>team[T.Burnley]</th>              <td>   -0.5743</td> <td>    0.065</td> <td>   -8.827</td> <td> 0.000</td> <td>   -0.702</td> <td>   -0.447</td>\n",
       "</tr>\n",
       "<tr>\n",
       "  <th>team[T.Cardiff]</th>              <td>   -0.7201</td> <td>    0.125</td> <td>   -5.747</td> <td> 0.000</td> <td>   -0.966</td> <td>   -0.475</td>\n",
       "</tr>\n",
       "<tr>\n",
       "  <th>team[T.Charlton]</th>             <td>   -0.4239</td> <td>    0.059</td> <td>   -7.211</td> <td> 0.000</td> <td>   -0.539</td> <td>   -0.309</td>\n",
       "</tr>\n",
       "<tr>\n",
       "  <th>team[T.Chelsea]</th>              <td>   -0.0345</td> <td>    0.033</td> <td>   -1.058</td> <td> 0.290</td> <td>   -0.098</td> <td>    0.029</td>\n",
       "</tr>\n",
       "<tr>\n",
       "  <th>team[T.Coventry]</th>             <td>   -0.4887</td> <td>    0.059</td> <td>   -8.222</td> <td> 0.000</td> <td>   -0.605</td> <td>   -0.372</td>\n",
       "</tr>\n",
       "<tr>\n",
       "  <th>team[T.Crystal Palace]</th>       <td>   -0.5094</td> <td>    0.052</td> <td>   -9.749</td> <td> 0.000</td> <td>   -0.612</td> <td>   -0.407</td>\n",
       "</tr>\n",
       "<tr>\n",
       "  <th>team[T.Derby]</th>                <td>   -0.5294</td> <td>    0.065</td> <td>   -8.139</td> <td> 0.000</td> <td>   -0.657</td> <td>   -0.402</td>\n",
       "</tr>\n",
       "<tr>\n",
       "  <th>team[T.Everton]</th>              <td>   -0.3022</td> <td>    0.035</td> <td>   -8.601</td> <td> 0.000</td> <td>   -0.371</td> <td>   -0.233</td>\n",
       "</tr>\n",
       "<tr>\n",
       "  <th>team[T.Fulham]</th>               <td>   -0.4558</td> <td>    0.046</td> <td>   -9.913</td> <td> 0.000</td> <td>   -0.546</td> <td>   -0.366</td>\n",
       "</tr>\n",
       "<tr>\n",
       "  <th>team[T.Huddersfield]</th>         <td>   -1.0036</td> <td>    0.143</td> <td>   -6.996</td> <td> 0.000</td> <td>   -1.285</td> <td>   -0.722</td>\n",
       "</tr>\n",
       "<tr>\n",
       "  <th>team[T.Hull]</th>                 <td>   -0.6094</td> <td>    0.078</td> <td>   -7.827</td> <td> 0.000</td> <td>   -0.762</td> <td>   -0.457</td>\n",
       "</tr>\n",
       "<tr>\n",
       "  <th>team[T.Ipswich]</th>              <td>   -0.5033</td> <td>    0.080</td> <td>   -6.261</td> <td> 0.000</td> <td>   -0.661</td> <td>   -0.346</td>\n",
       "</tr>\n",
       "<tr>\n",
       "  <th>team[T.Leeds]</th>                <td>   -0.2307</td> <td>    0.045</td> <td>   -5.073</td> <td> 0.000</td> <td>   -0.320</td> <td>   -0.142</td>\n",
       "</tr>\n",
       "<tr>\n",
       "  <th>team[T.Leicester]</th>            <td>   -0.2882</td> <td>    0.043</td> <td>   -6.727</td> <td> 0.000</td> <td>   -0.372</td> <td>   -0.204</td>\n",
       "</tr>\n",
       "<tr>\n",
       "  <th>team[T.Liverpool]</th>            <td>   -0.0219</td> <td>    0.032</td> <td>   -0.673</td> <td> 0.501</td> <td>   -0.086</td> <td>    0.042</td>\n",
       "</tr>\n",
       "<tr>\n",
       "  <th>team[T.Man City]</th>             <td>   -0.0406</td> <td>    0.034</td> <td>   -1.180</td> <td> 0.238</td> <td>   -0.108</td> <td>    0.027</td>\n",
       "</tr>\n",
       "<tr>\n",
       "  <th>team[T.Man United]</th>           <td>    0.0731</td> <td>    0.032</td> <td>    2.305</td> <td> 0.021</td> <td>    0.011</td> <td>    0.135</td>\n",
       "</tr>\n",
       "<tr>\n",
       "  <th>team[T.Middlesbrough]</th>        <td>   -0.4413</td> <td>    0.047</td> <td>   -9.382</td> <td> 0.000</td> <td>   -0.533</td> <td>   -0.349</td>\n",
       "</tr>\n",
       "<tr>\n",
       "  <th>team[T.Newcastle]</th>            <td>   -0.2727</td> <td>    0.036</td> <td>   -7.651</td> <td> 0.000</td> <td>   -0.343</td> <td>   -0.203</td>\n",
       "</tr>\n",
       "<tr>\n",
       "  <th>team[T.Norwich]</th>              <td>   -0.5201</td> <td>    0.060</td> <td>   -8.741</td> <td> 0.000</td> <td>   -0.637</td> <td>   -0.404</td>\n",
       "</tr>\n",
       "<tr>\n",
       "  <th>team[T.Nott'm Forest]</th>        <td>   -0.3556</td> <td>    0.077</td> <td>   -4.642</td> <td> 0.000</td> <td>   -0.506</td> <td>   -0.205</td>\n",
       "</tr>\n",
       "<tr>\n",
       "  <th>team[T.Oldham]</th>               <td>   -0.5885</td> <td>    0.156</td> <td>   -3.764</td> <td> 0.000</td> <td>   -0.895</td> <td>   -0.282</td>\n",
       "</tr>\n",
       "<tr>\n",
       "  <th>team[T.Portsmouth]</th>           <td>   -0.4553</td> <td>    0.063</td> <td>   -7.232</td> <td> 0.000</td> <td>   -0.579</td> <td>   -0.332</td>\n",
       "</tr>\n",
       "<tr>\n",
       "  <th>team[T.QPR]</th>                  <td>   -0.4039</td> <td>    0.064</td> <td>   -6.264</td> <td> 0.000</td> <td>   -0.530</td> <td>   -0.278</td>\n",
       "</tr>\n",
       "<tr>\n",
       "  <th>team[T.Reading]</th>              <td>   -0.3758</td> <td>    0.089</td> <td>   -4.230</td> <td> 0.000</td> <td>   -0.550</td> <td>   -0.202</td>\n",
       "</tr>\n",
       "<tr>\n",
       "  <th>team[T.Sheffield United]</th>     <td>   -0.7302</td> <td>    0.090</td> <td>   -8.135</td> <td> 0.000</td> <td>   -0.906</td> <td>   -0.554</td>\n",
       "</tr>\n",
       "<tr>\n",
       "  <th>team[T.Sheffield Weds]</th>       <td>   -0.3011</td> <td>    0.058</td> <td>   -5.183</td> <td> 0.000</td> <td>   -0.415</td> <td>   -0.187</td>\n",
       "</tr>\n",
       "<tr>\n",
       "  <th>team[T.Southampton]</th>          <td>   -0.3697</td> <td>    0.039</td> <td>   -9.419</td> <td> 0.000</td> <td>   -0.447</td> <td>   -0.293</td>\n",
       "</tr>\n",
       "<tr>\n",
       "  <th>team[T.Stoke]</th>                <td>   -0.5301</td> <td>    0.055</td> <td>   -9.603</td> <td> 0.000</td> <td>   -0.638</td> <td>   -0.422</td>\n",
       "</tr>\n",
       "<tr>\n",
       "  <th>team[T.Sunderland]</th>           <td>   -0.5535</td> <td>    0.046</td> <td>  -11.907</td> <td> 0.000</td> <td>   -0.645</td> <td>   -0.462</td>\n",
       "</tr>\n",
       "<tr>\n",
       "  <th>team[T.Swansea]</th>              <td>   -0.4380</td> <td>    0.062</td> <td>   -7.099</td> <td> 0.000</td> <td>   -0.559</td> <td>   -0.317</td>\n",
       "</tr>\n",
       "<tr>\n",
       "  <th>team[T.Swindon]</th>              <td>   -0.4488</td> <td>    0.148</td> <td>   -3.033</td> <td> 0.002</td> <td>   -0.739</td> <td>   -0.159</td>\n",
       "</tr>\n",
       "<tr>\n",
       "  <th>team[T.Tottenham]</th>            <td>   -0.1613</td> <td>    0.034</td> <td>   -4.773</td> <td> 0.000</td> <td>   -0.227</td> <td>   -0.095</td>\n",
       "</tr>\n",
       "<tr>\n",
       "  <th>team[T.Watford]</th>              <td>   -0.5332</td> <td>    0.064</td> <td>   -8.356</td> <td> 0.000</td> <td>   -0.658</td> <td>   -0.408</td>\n",
       "</tr>\n",
       "<tr>\n",
       "  <th>team[T.West Brom]</th>            <td>   -0.5281</td> <td>    0.050</td> <td>  -10.582</td> <td> 0.000</td> <td>   -0.626</td> <td>   -0.430</td>\n",
       "</tr>\n",
       "<tr>\n",
       "  <th>team[T.West Ham]</th>             <td>   -0.3543</td> <td>    0.037</td> <td>   -9.585</td> <td> 0.000</td> <td>   -0.427</td> <td>   -0.282</td>\n",
       "</tr>\n",
       "<tr>\n",
       "  <th>team[T.Wigan]</th>                <td>   -0.5162</td> <td>    0.061</td> <td>   -8.483</td> <td> 0.000</td> <td>   -0.635</td> <td>   -0.397</td>\n",
       "</tr>\n",
       "<tr>\n",
       "  <th>team[T.Wimbledon]</th>            <td>   -0.3755</td> <td>    0.060</td> <td>   -6.260</td> <td> 0.000</td> <td>   -0.493</td> <td>   -0.258</td>\n",
       "</tr>\n",
       "<tr>\n",
       "  <th>team[T.Wolves]</th>               <td>   -0.4852</td> <td>    0.063</td> <td>   -7.724</td> <td> 0.000</td> <td>   -0.608</td> <td>   -0.362</td>\n",
       "</tr>\n",
       "<tr>\n",
       "  <th>opponent[T.Aston Villa]</th>      <td>    0.2530</td> <td>    0.042</td> <td>    6.088</td> <td> 0.000</td> <td>    0.172</td> <td>    0.334</td>\n",
       "</tr>\n",
       "<tr>\n",
       "  <th>opponent[T.Barnsley]</th>         <td>    0.7340</td> <td>    0.115</td> <td>    6.398</td> <td> 0.000</td> <td>    0.509</td> <td>    0.959</td>\n",
       "</tr>\n",
       "<tr>\n",
       "  <th>opponent[T.Birmingham]</th>       <td>    0.2752</td> <td>    0.061</td> <td>    4.508</td> <td> 0.000</td> <td>    0.156</td> <td>    0.395</td>\n",
       "</tr>\n",
       "<tr>\n",
       "  <th>opponent[T.Blackburn]</th>        <td>    0.2555</td> <td>    0.046</td> <td>    5.573</td> <td> 0.000</td> <td>    0.166</td> <td>    0.345</td>\n",
       "</tr>\n",
       "<tr>\n",
       "  <th>opponent[T.Blackpool]</th>        <td>    0.7056</td> <td>    0.117</td> <td>    6.010</td> <td> 0.000</td> <td>    0.476</td> <td>    0.936</td>\n",
       "</tr>\n",
       "<tr>\n",
       "  <th>opponent[T.Bolton]</th>           <td>    0.3879</td> <td>    0.048</td> <td>    8.116</td> <td> 0.000</td> <td>    0.294</td> <td>    0.482</td>\n",
       "</tr>\n",
       "<tr>\n",
       "  <th>opponent[T.Bournemouth]</th>      <td>    0.5568</td> <td>    0.063</td> <td>    8.815</td> <td> 0.000</td> <td>    0.433</td> <td>    0.681</td>\n",
       "</tr>\n",
       "<tr>\n",
       "  <th>opponent[T.Bradford]</th>         <td>    0.5695</td> <td>    0.091</td> <td>    6.287</td> <td> 0.000</td> <td>    0.392</td> <td>    0.747</td>\n",
       "</tr>\n",
       "<tr>\n",
       "  <th>opponent[T.Brentford]</th>        <td>   -0.1547</td> <td>    0.449</td> <td>   -0.345</td> <td> 0.730</td> <td>   -1.034</td> <td>    0.724</td>\n",
       "</tr>\n",
       "<tr>\n",
       "  <th>opponent[T.Brighton]</th>         <td>    0.3244</td> <td>    0.074</td> <td>    4.360</td> <td> 0.000</td> <td>    0.179</td> <td>    0.470</td>\n",
       "</tr>\n",
       "<tr>\n",
       "  <th>opponent[T.Burnley]</th>          <td>    0.4099</td> <td>    0.058</td> <td>    7.059</td> <td> 0.000</td> <td>    0.296</td> <td>    0.524</td>\n",
       "</tr>\n",
       "<tr>\n",
       "  <th>opponent[T.Cardiff]</th>          <td>    0.6321</td> <td>    0.089</td> <td>    7.090</td> <td> 0.000</td> <td>    0.457</td> <td>    0.807</td>\n",
       "</tr>\n",
       "<tr>\n",
       "  <th>opponent[T.Charlton]</th>         <td>    0.3461</td> <td>    0.057</td> <td>    6.114</td> <td> 0.000</td> <td>    0.235</td> <td>    0.457</td>\n",
       "</tr>\n",
       "<tr>\n",
       "  <th>opponent[T.Chelsea]</th>          <td>   -0.0332</td> <td>    0.044</td> <td>   -0.763</td> <td> 0.446</td> <td>   -0.119</td> <td>    0.052</td>\n",
       "</tr>\n",
       "<tr>\n",
       "  <th>opponent[T.Coventry]</th>         <td>    0.2932</td> <td>    0.057</td> <td>    5.132</td> <td> 0.000</td> <td>    0.181</td> <td>    0.405</td>\n",
       "</tr>\n",
       "<tr>\n",
       "  <th>opponent[T.Crystal Palace]</th>   <td>    0.3691</td> <td>    0.050</td> <td>    7.331</td> <td> 0.000</td> <td>    0.270</td> <td>    0.468</td>\n",
       "</tr>\n",
       "<tr>\n",
       "  <th>opponent[T.Derby]</th>            <td>    0.4262</td> <td>    0.058</td> <td>    7.387</td> <td> 0.000</td> <td>    0.313</td> <td>    0.539</td>\n",
       "</tr>\n",
       "<tr>\n",
       "  <th>opponent[T.Everton]</th>          <td>    0.2259</td> <td>    0.041</td> <td>    5.531</td> <td> 0.000</td> <td>    0.146</td> <td>    0.306</td>\n",
       "</tr>\n",
       "<tr>\n",
       "  <th>opponent[T.Fulham]</th>           <td>    0.3604</td> <td>    0.046</td> <td>    7.781</td> <td> 0.000</td> <td>    0.270</td> <td>    0.451</td>\n",
       "</tr>\n",
       "<tr>\n",
       "  <th>opponent[T.Huddersfield]</th>     <td>    0.5583</td> <td>    0.092</td> <td>    6.078</td> <td> 0.000</td> <td>    0.378</td> <td>    0.738</td>\n",
       "</tr>\n",
       "<tr>\n",
       "  <th>opponent[T.Hull]</th>             <td>    0.5221</td> <td>    0.064</td> <td>    8.212</td> <td> 0.000</td> <td>    0.398</td> <td>    0.647</td>\n",
       "</tr>\n",
       "<tr>\n",
       "  <th>opponent[T.Ipswich]</th>          <td>    0.4448</td> <td>    0.070</td> <td>    6.393</td> <td> 0.000</td> <td>    0.308</td> <td>    0.581</td>\n",
       "</tr>\n",
       "<tr>\n",
       "  <th>opponent[T.Leeds]</th>            <td>    0.1863</td> <td>    0.052</td> <td>    3.604</td> <td> 0.000</td> <td>    0.085</td> <td>    0.288</td>\n",
       "</tr>\n",
       "<tr>\n",
       "  <th>opponent[T.Leicester]</th>        <td>    0.3349</td> <td>    0.046</td> <td>    7.204</td> <td> 0.000</td> <td>    0.244</td> <td>    0.426</td>\n",
       "</tr>\n",
       "<tr>\n",
       "  <th>opponent[T.Liverpool]</th>        <td>   -0.0029</td> <td>    0.043</td> <td>   -0.067</td> <td> 0.947</td> <td>   -0.088</td> <td>    0.082</td>\n",
       "</tr>\n",
       "<tr>\n",
       "  <th>opponent[T.Man City]</th>         <td>    0.1152</td> <td>    0.044</td> <td>    2.610</td> <td> 0.009</td> <td>    0.029</td> <td>    0.202</td>\n",
       "</tr>\n",
       "<tr>\n",
       "  <th>opponent[T.Man United]</th>       <td>   -0.0807</td> <td>    0.044</td> <td>   -1.825</td> <td> 0.068</td> <td>   -0.167</td> <td>    0.006</td>\n",
       "</tr>\n",
       "<tr>\n",
       "  <th>opponent[T.Middlesbrough]</th>    <td>    0.2746</td> <td>    0.048</td> <td>    5.688</td> <td> 0.000</td> <td>    0.180</td> <td>    0.369</td>\n",
       "</tr>\n",
       "<tr>\n",
       "  <th>opponent[T.Newcastle]</th>        <td>    0.2996</td> <td>    0.041</td> <td>    7.335</td> <td> 0.000</td> <td>    0.220</td> <td>    0.380</td>\n",
       "</tr>\n",
       "<tr>\n",
       "  <th>opponent[T.Norwich]</th>          <td>    0.5013</td> <td>    0.053</td> <td>    9.463</td> <td> 0.000</td> <td>    0.397</td> <td>    0.605</td>\n",
       "</tr>\n",
       "<tr>\n",
       "  <th>opponent[T.Nott'm Forest]</th>    <td>    0.3257</td> <td>    0.073</td> <td>    4.432</td> <td> 0.000</td> <td>    0.182</td> <td>    0.470</td>\n",
       "</tr>\n",
       "<tr>\n",
       "  <th>opponent[T.Oldham]</th>           <td>    0.4596</td> <td>    0.125</td> <td>    3.667</td> <td> 0.000</td> <td>    0.214</td> <td>    0.705</td>\n",
       "</tr>\n",
       "<tr>\n",
       "  <th>opponent[T.Portsmouth]</th>       <td>    0.3369</td> <td>    0.060</td> <td>    5.630</td> <td> 0.000</td> <td>    0.220</td> <td>    0.454</td>\n",
       "</tr>\n",
       "<tr>\n",
       "  <th>opponent[T.QPR]</th>              <td>    0.4414</td> <td>    0.060</td> <td>    7.353</td> <td> 0.000</td> <td>    0.324</td> <td>    0.559</td>\n",
       "</tr>\n",
       "<tr>\n",
       "  <th>opponent[T.Reading]</th>          <td>    0.4742</td> <td>    0.080</td> <td>    5.963</td> <td> 0.000</td> <td>    0.318</td> <td>    0.630</td>\n",
       "</tr>\n",
       "<tr>\n",
       "  <th>opponent[T.Sheffield United]</th> <td>    0.3050</td> <td>    0.075</td> <td>    4.093</td> <td> 0.000</td> <td>    0.159</td> <td>    0.451</td>\n",
       "</tr>\n",
       "<tr>\n",
       "  <th>opponent[T.Sheffield Weds]</th>   <td>    0.3562</td> <td>    0.059</td> <td>    6.070</td> <td> 0.000</td> <td>    0.241</td> <td>    0.471</td>\n",
       "</tr>\n",
       "<tr>\n",
       "  <th>opponent[T.Southampton]</th>      <td>    0.3401</td> <td>    0.042</td> <td>    8.017</td> <td> 0.000</td> <td>    0.257</td> <td>    0.423</td>\n",
       "</tr>\n",
       "<tr>\n",
       "  <th>opponent[T.Stoke]</th>            <td>    0.3122</td> <td>    0.053</td> <td>    5.849</td> <td> 0.000</td> <td>    0.208</td> <td>    0.417</td>\n",
       "</tr>\n",
       "<tr>\n",
       "  <th>opponent[T.Sunderland]</th>       <td>    0.3761</td> <td>    0.045</td> <td>    8.317</td> <td> 0.000</td> <td>    0.287</td> <td>    0.465</td>\n",
       "</tr>\n",
       "<tr>\n",
       "  <th>opponent[T.Swansea]</th>          <td>    0.3593</td> <td>    0.060</td> <td>    6.023</td> <td> 0.000</td> <td>    0.242</td> <td>    0.476</td>\n",
       "</tr>\n",
       "<tr>\n",
       "  <th>opponent[T.Swindon]</th>          <td>    0.8505</td> <td>    0.105</td> <td>    8.108</td> <td> 0.000</td> <td>    0.645</td> <td>    1.056</td>\n",
       "</tr>\n",
       "<tr>\n",
       "  <th>opponent[T.Tottenham]</th>        <td>    0.2135</td> <td>    0.041</td> <td>    5.204</td> <td> 0.000</td> <td>    0.133</td> <td>    0.294</td>\n",
       "</tr>\n",
       "<tr>\n",
       "  <th>opponent[T.Watford]</th>          <td>    0.4971</td> <td>    0.056</td> <td>    8.830</td> <td> 0.000</td> <td>    0.387</td> <td>    0.607</td>\n",
       "</tr>\n",
       "<tr>\n",
       "  <th>opponent[T.West Brom]</th>        <td>    0.4299</td> <td>    0.047</td> <td>    9.089</td> <td> 0.000</td> <td>    0.337</td> <td>    0.523</td>\n",
       "</tr>\n",
       "<tr>\n",
       "  <th>opponent[T.West Ham]</th>         <td>    0.3489</td> <td>    0.041</td> <td>    8.565</td> <td> 0.000</td> <td>    0.269</td> <td>    0.429</td>\n",
       "</tr>\n",
       "<tr>\n",
       "  <th>opponent[T.Wigan]</th>            <td>    0.4427</td> <td>    0.055</td> <td>    8.051</td> <td> 0.000</td> <td>    0.335</td> <td>    0.550</td>\n",
       "</tr>\n",
       "<tr>\n",
       "  <th>opponent[T.Wimbledon]</th>        <td>    0.3893</td> <td>    0.058</td> <td>    6.722</td> <td> 0.000</td> <td>    0.276</td> <td>    0.503</td>\n",
       "</tr>\n",
       "<tr>\n",
       "  <th>opponent[T.Wolves]</th>           <td>    0.4290</td> <td>    0.057</td> <td>    7.466</td> <td> 0.000</td> <td>    0.316</td> <td>    0.542</td>\n",
       "</tr>\n",
       "<tr>\n",
       "  <th>home</th>                         <td>    0.2900</td> <td>    0.012</td> <td>   24.374</td> <td> 0.000</td> <td>    0.267</td> <td>    0.313</td>\n",
       "</tr>\n",
       "</table>"
      ],
      "text/plain": [
       "<class 'statsmodels.iolib.summary.Summary'>\n",
       "\"\"\"\n",
       "                 Generalized Linear Model Regression Results                  \n",
       "==============================================================================\n",
       "Dep. Variable:                  goals   No. Observations:                21728\n",
       "Model:                            GLM   Df Residuals:                    21628\n",
       "Model Family:                 Poisson   Df Model:                           99\n",
       "Link Function:                    Log   Scale:                          1.0000\n",
       "Method:                          IRLS   Log-Likelihood:                -31436.\n",
       "Date:                Mon, 29 Nov 2021   Deviance:                       25238.\n",
       "Time:                        05:50:49   Pearson chi2:                 2.21e+04\n",
       "No. Iterations:                     5   Pseudo R-squ. (CS):             0.1172\n",
       "Covariance Type:            nonrobust                                         \n",
       "================================================================================================\n",
       "                                   coef    std err          z      P>|z|      [0.025      0.975]\n",
       "------------------------------------------------------------------------------------------------\n",
       "Intercept                        0.1395      0.039      3.557      0.000       0.063       0.216\n",
       "team[T.Aston Villa]             -0.3727      0.037    -10.023      0.000      -0.446      -0.300\n",
       "team[T.Barnsley]                -0.5730      0.166     -3.449      0.001      -0.899      -0.247\n",
       "team[T.Birmingham]              -0.5250      0.065     -8.100      0.000      -0.652      -0.398\n",
       "team[T.Blackburn]               -0.2850      0.041     -6.927      0.000      -0.366      -0.204\n",
       "team[T.Blackpool]               -0.1804      0.137     -1.318      0.187      -0.449       0.088\n",
       "team[T.Bolton]                  -0.3967      0.048     -8.326      0.000      -0.490      -0.303\n",
       "team[T.Bournemouth]             -0.3370      0.069     -4.914      0.000      -0.471      -0.203\n",
       "team[T.Bradford]                -0.6567      0.124     -5.316      0.000      -0.899      -0.415\n",
       "team[T.Brentford]               -0.2334      0.355     -0.658      0.511      -0.929       0.462\n",
       "team[T.Brighton]                -0.5943      0.084     -7.117      0.000      -0.758      -0.431\n",
       "team[T.Burnley]                 -0.5743      0.065     -8.827      0.000      -0.702      -0.447\n",
       "team[T.Cardiff]                 -0.7201      0.125     -5.747      0.000      -0.966      -0.475\n",
       "team[T.Charlton]                -0.4239      0.059     -7.211      0.000      -0.539      -0.309\n",
       "team[T.Chelsea]                 -0.0345      0.033     -1.058      0.290      -0.098       0.029\n",
       "team[T.Coventry]                -0.4887      0.059     -8.222      0.000      -0.605      -0.372\n",
       "team[T.Crystal Palace]          -0.5094      0.052     -9.749      0.000      -0.612      -0.407\n",
       "team[T.Derby]                   -0.5294      0.065     -8.139      0.000      -0.657      -0.402\n",
       "team[T.Everton]                 -0.3022      0.035     -8.601      0.000      -0.371      -0.233\n",
       "team[T.Fulham]                  -0.4558      0.046     -9.913      0.000      -0.546      -0.366\n",
       "team[T.Huddersfield]            -1.0036      0.143     -6.996      0.000      -1.285      -0.722\n",
       "team[T.Hull]                    -0.6094      0.078     -7.827      0.000      -0.762      -0.457\n",
       "team[T.Ipswich]                 -0.5033      0.080     -6.261      0.000      -0.661      -0.346\n",
       "team[T.Leeds]                   -0.2307      0.045     -5.073      0.000      -0.320      -0.142\n",
       "team[T.Leicester]               -0.2882      0.043     -6.727      0.000      -0.372      -0.204\n",
       "team[T.Liverpool]               -0.0219      0.032     -0.673      0.501      -0.086       0.042\n",
       "team[T.Man City]                -0.0406      0.034     -1.180      0.238      -0.108       0.027\n",
       "team[T.Man United]               0.0731      0.032      2.305      0.021       0.011       0.135\n",
       "team[T.Middlesbrough]           -0.4413      0.047     -9.382      0.000      -0.533      -0.349\n",
       "team[T.Newcastle]               -0.2727      0.036     -7.651      0.000      -0.343      -0.203\n",
       "team[T.Norwich]                 -0.5201      0.060     -8.741      0.000      -0.637      -0.404\n",
       "team[T.Nott'm Forest]           -0.3556      0.077     -4.642      0.000      -0.506      -0.205\n",
       "team[T.Oldham]                  -0.5885      0.156     -3.764      0.000      -0.895      -0.282\n",
       "team[T.Portsmouth]              -0.4553      0.063     -7.232      0.000      -0.579      -0.332\n",
       "team[T.QPR]                     -0.4039      0.064     -6.264      0.000      -0.530      -0.278\n",
       "team[T.Reading]                 -0.3758      0.089     -4.230      0.000      -0.550      -0.202\n",
       "team[T.Sheffield United]        -0.7302      0.090     -8.135      0.000      -0.906      -0.554\n",
       "team[T.Sheffield Weds]          -0.3011      0.058     -5.183      0.000      -0.415      -0.187\n",
       "team[T.Southampton]             -0.3697      0.039     -9.419      0.000      -0.447      -0.293\n",
       "team[T.Stoke]                   -0.5301      0.055     -9.603      0.000      -0.638      -0.422\n",
       "team[T.Sunderland]              -0.5535      0.046    -11.907      0.000      -0.645      -0.462\n",
       "team[T.Swansea]                 -0.4380      0.062     -7.099      0.000      -0.559      -0.317\n",
       "team[T.Swindon]                 -0.4488      0.148     -3.033      0.002      -0.739      -0.159\n",
       "team[T.Tottenham]               -0.1613      0.034     -4.773      0.000      -0.227      -0.095\n",
       "team[T.Watford]                 -0.5332      0.064     -8.356      0.000      -0.658      -0.408\n",
       "team[T.West Brom]               -0.5281      0.050    -10.582      0.000      -0.626      -0.430\n",
       "team[T.West Ham]                -0.3543      0.037     -9.585      0.000      -0.427      -0.282\n",
       "team[T.Wigan]                   -0.5162      0.061     -8.483      0.000      -0.635      -0.397\n",
       "team[T.Wimbledon]               -0.3755      0.060     -6.260      0.000      -0.493      -0.258\n",
       "team[T.Wolves]                  -0.4852      0.063     -7.724      0.000      -0.608      -0.362\n",
       "opponent[T.Aston Villa]          0.2530      0.042      6.088      0.000       0.172       0.334\n",
       "opponent[T.Barnsley]             0.7340      0.115      6.398      0.000       0.509       0.959\n",
       "opponent[T.Birmingham]           0.2752      0.061      4.508      0.000       0.156       0.395\n",
       "opponent[T.Blackburn]            0.2555      0.046      5.573      0.000       0.166       0.345\n",
       "opponent[T.Blackpool]            0.7056      0.117      6.010      0.000       0.476       0.936\n",
       "opponent[T.Bolton]               0.3879      0.048      8.116      0.000       0.294       0.482\n",
       "opponent[T.Bournemouth]          0.5568      0.063      8.815      0.000       0.433       0.681\n",
       "opponent[T.Bradford]             0.5695      0.091      6.287      0.000       0.392       0.747\n",
       "opponent[T.Brentford]           -0.1547      0.449     -0.345      0.730      -1.034       0.724\n",
       "opponent[T.Brighton]             0.3244      0.074      4.360      0.000       0.179       0.470\n",
       "opponent[T.Burnley]              0.4099      0.058      7.059      0.000       0.296       0.524\n",
       "opponent[T.Cardiff]              0.6321      0.089      7.090      0.000       0.457       0.807\n",
       "opponent[T.Charlton]             0.3461      0.057      6.114      0.000       0.235       0.457\n",
       "opponent[T.Chelsea]             -0.0332      0.044     -0.763      0.446      -0.119       0.052\n",
       "opponent[T.Coventry]             0.2932      0.057      5.132      0.000       0.181       0.405\n",
       "opponent[T.Crystal Palace]       0.3691      0.050      7.331      0.000       0.270       0.468\n",
       "opponent[T.Derby]                0.4262      0.058      7.387      0.000       0.313       0.539\n",
       "opponent[T.Everton]              0.2259      0.041      5.531      0.000       0.146       0.306\n",
       "opponent[T.Fulham]               0.3604      0.046      7.781      0.000       0.270       0.451\n",
       "opponent[T.Huddersfield]         0.5583      0.092      6.078      0.000       0.378       0.738\n",
       "opponent[T.Hull]                 0.5221      0.064      8.212      0.000       0.398       0.647\n",
       "opponent[T.Ipswich]              0.4448      0.070      6.393      0.000       0.308       0.581\n",
       "opponent[T.Leeds]                0.1863      0.052      3.604      0.000       0.085       0.288\n",
       "opponent[T.Leicester]            0.3349      0.046      7.204      0.000       0.244       0.426\n",
       "opponent[T.Liverpool]           -0.0029      0.043     -0.067      0.947      -0.088       0.082\n",
       "opponent[T.Man City]             0.1152      0.044      2.610      0.009       0.029       0.202\n",
       "opponent[T.Man United]          -0.0807      0.044     -1.825      0.068      -0.167       0.006\n",
       "opponent[T.Middlesbrough]        0.2746      0.048      5.688      0.000       0.180       0.369\n",
       "opponent[T.Newcastle]            0.2996      0.041      7.335      0.000       0.220       0.380\n",
       "opponent[T.Norwich]              0.5013      0.053      9.463      0.000       0.397       0.605\n",
       "opponent[T.Nott'm Forest]        0.3257      0.073      4.432      0.000       0.182       0.470\n",
       "opponent[T.Oldham]               0.4596      0.125      3.667      0.000       0.214       0.705\n",
       "opponent[T.Portsmouth]           0.3369      0.060      5.630      0.000       0.220       0.454\n",
       "opponent[T.QPR]                  0.4414      0.060      7.353      0.000       0.324       0.559\n",
       "opponent[T.Reading]              0.4742      0.080      5.963      0.000       0.318       0.630\n",
       "opponent[T.Sheffield United]     0.3050      0.075      4.093      0.000       0.159       0.451\n",
       "opponent[T.Sheffield Weds]       0.3562      0.059      6.070      0.000       0.241       0.471\n",
       "opponent[T.Southampton]          0.3401      0.042      8.017      0.000       0.257       0.423\n",
       "opponent[T.Stoke]                0.3122      0.053      5.849      0.000       0.208       0.417\n",
       "opponent[T.Sunderland]           0.3761      0.045      8.317      0.000       0.287       0.465\n",
       "opponent[T.Swansea]              0.3593      0.060      6.023      0.000       0.242       0.476\n",
       "opponent[T.Swindon]              0.8505      0.105      8.108      0.000       0.645       1.056\n",
       "opponent[T.Tottenham]            0.2135      0.041      5.204      0.000       0.133       0.294\n",
       "opponent[T.Watford]              0.4971      0.056      8.830      0.000       0.387       0.607\n",
       "opponent[T.West Brom]            0.4299      0.047      9.089      0.000       0.337       0.523\n",
       "opponent[T.West Ham]             0.3489      0.041      8.565      0.000       0.269       0.429\n",
       "opponent[T.Wigan]                0.4427      0.055      8.051      0.000       0.335       0.550\n",
       "opponent[T.Wimbledon]            0.3893      0.058      6.722      0.000       0.276       0.503\n",
       "opponent[T.Wolves]               0.4290      0.057      7.466      0.000       0.316       0.542\n",
       "home                             0.2900      0.012     24.374      0.000       0.267       0.313\n",
       "================================================================================================\n",
       "\"\"\""
      ]
     },
     "execution_count": 26,
     "metadata": {},
     "output_type": "execute_result"
    }
   ],
   "source": [
    "# importing the tools required for the Poisson regression model\n",
    "import statsmodels.api as sm\n",
    "import statsmodels.formula.api as smf\n",
    "\n",
    "goal_model_data = pd.concat([epl_1617[['HomeTeam','AwayTeam','HomeGoals']].assign(home=1).rename(\n",
    "            columns={'HomeTeam':'team', 'AwayTeam':'opponent','HomeGoals':'goals'}),\n",
    "           epl_1617[['AwayTeam','HomeTeam','AwayGoals']].assign(home=0).rename(\n",
    "            columns={'AwayTeam':'team', 'HomeTeam':'opponent','AwayGoals':'goals'})])\n",
    "\n",
    "poisson_model = smf.glm(formula=\"goals ~ home + team + opponent\", data=goal_model_data, \n",
    "                        family=sm.families.Poisson()).fit()\n",
    "poisson_model.summary()"
   ]
  },
  {
   "cell_type": "code",
   "execution_count": null,
   "metadata": {},
   "outputs": [
    {
     "data": {
      "text/plain": [
       "1    2.162288\n",
       "dtype: float64"
      ]
     },
     "execution_count": 27,
     "metadata": {},
     "output_type": "execute_result"
    }
   ],
   "source": [
    "poisson_model.predict(pd.DataFrame(data={'team': 'Chelsea', 'opponent': 'Sunderland','home':1},index=[1]))"
   ]
  },
  {
   "cell_type": "code",
   "execution_count": null,
   "metadata": {},
   "outputs": [
    {
     "data": {
      "text/plain": [
       "1    0.639434\n",
       "dtype: float64"
      ]
     },
     "execution_count": 28,
     "metadata": {},
     "output_type": "execute_result"
    }
   ],
   "source": [
    "poisson_model.predict(pd.DataFrame(data={'team': 'Sunderland', 'opponent': 'Chelsea','home':0},index=[1]))"
   ]
  },
  {
   "cell_type": "code",
   "execution_count": null,
   "metadata": {},
   "outputs": [
    {
     "data": {
      "text/plain": [
       "0.26476741436725787"
      ]
     },
     "execution_count": 39,
     "metadata": {},
     "output_type": "execute_result"
    }
   ],
   "source": [
    "def simulate_match(foot_model, homeTeam, awayTeam, max_goals=10):\n",
    "    home_goals_avg = foot_model.predict(pd.DataFrame(data={'team': homeTeam, \n",
    "                                                            'opponent': awayTeam,'home':1},\n",
    "                                                      index=[1])).values[0]\n",
    "    away_goals_avg = foot_model.predict(pd.DataFrame(data={'team': awayTeam, \n",
    "                                                            'opponent': homeTeam,'home':0},\n",
    "                                                      index=[1])).values[0]\n",
    "    team_pred = [[poisson.pmf(i, team_avg) for i in range(0, max_goals+1)] for team_avg in [home_goals_avg, away_goals_avg]]\n",
    "    return(np.outer(np.array(team_pred[0]), np.array(team_pred[1])))\n",
    "simulate_match(poisson_model, 'Chelsea', 'Sunderland', max_goals=3)\n",
    "chel_sun = simulate_match(poisson_model, \"Chelsea\", \"Man United\",)\n",
    "# chelsea win\n",
    "np.sum(np.tril(chel_sun, -1))\n",
    "# draw\n",
    "np.sum(np.diag(chel_sun))"
   ]
  },
  {
   "cell_type": "code",
   "execution_count": 58,
   "metadata": {},
   "outputs": [
    {
     "name": "stdout",
     "output_type": "stream",
     "text": [
      "20%\n"
     ]
    }
   ],
   "source": [
    "chel_sun = simulate_match(poisson_model, \"Sunderland\", \"Chelsea\", max_goals=10)\n",
    "# Home win\n",
    "home = np.sum(np.tril(chel_sun, -1))\n",
    "percentage = \"{:.0%}\".format(home)\n",
    "print(percentage)"
   ]
  },
  {
   "cell_type": "code",
   "execution_count": 59,
   "metadata": {},
   "outputs": [
    {
     "name": "stdout",
     "output_type": "stream",
     "text": [
      "25%\n"
     ]
    }
   ],
   "source": [
    "# draw\n",
    "draw = np.sum(np.diag(chel_sun))\n",
    "percentage = \"{:.0%}\".format(draw)\n",
    "print(percentage)"
   ]
  },
  {
   "cell_type": "code",
   "execution_count": 60,
   "metadata": {},
   "outputs": [
    {
     "name": "stdout",
     "output_type": "stream",
     "text": [
      "55%\n"
     ]
    }
   ],
   "source": [
    "# Away win\n",
    "away = np.sum(np.triu(chel_sun, 1))\n",
    "percentage = \"{:.0%}\".format(away)\n",
    "print(percentage)"
   ]
  }
 ],
 "metadata": {
  "interpreter": {
   "hash": "3067b0d1fd9c8cc07b47a64eff79eb3b817c240f90a20293ab28b2f38ddac67f"
  },
  "kernelspec": {
   "display_name": "Python 3.9.9 64-bit (windows store)",
   "language": "python",
   "name": "python3"
  },
  "language_info": {
   "codemirror_mode": {
    "name": "ipython",
    "version": 3
   },
   "file_extension": ".py",
   "mimetype": "text/x-python",
   "name": "python",
   "nbconvert_exporter": "python",
   "pygments_lexer": "ipython3",
   "version": "3.8.8"
  },
  "orig_nbformat": 4
 },
 "nbformat": 4,
 "nbformat_minor": 2
}
